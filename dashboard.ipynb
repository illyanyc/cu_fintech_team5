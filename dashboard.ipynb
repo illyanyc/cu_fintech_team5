{
 "cells": [
  {
   "cell_type": "markdown",
   "id": "d1b2416f",
   "metadata": {},
   "source": [
    "# Powerfolio!"
   ]
  },
  {
   "cell_type": "markdown",
   "id": "e4298954",
   "metadata": {},
   "source": [
    "<img src=\"images/logo.png\" width=\"150\" title=\"stock_flex\" align=\"center\">"
   ]
  },
  {
   "cell_type": "markdown",
   "id": "06e05967",
   "metadata": {},
   "source": [
    "---"
   ]
  },
  {
   "cell_type": "markdown",
   "id": "a3b3d93e",
   "metadata": {},
   "source": [
    "### Import Dependancies\n",
    "Import system, data analytics, finance API, database tools, and visualization libraries"
   ]
  },
  {
   "cell_type": "code",
   "execution_count": 1,
   "id": "8802c3f8",
   "metadata": {
    "tags": []
   },
   "outputs": [],
   "source": [
    "# System\n",
    "import os\n",
    "import time, sys\n",
    "from pathlib import Path\n",
    "from dotenv import load_dotenv\n",
    "import requests\n",
    "from datetime import date, datetime, timedelta\n",
    "from ast import literal_eval as make_tuple\n",
    "\n",
    "# Data analytics\n",
    "import pandas as pd\n",
    "from pandas import DataFrame, MultiIndex\n",
    "from typing import List, NewType\n",
    "import numpy as np\n",
    "\n",
    "# Visualization\n",
    "import panel as pn\n",
    "import panel.widgets as pnw\n",
    "import plotly.express as px\n",
    "import plotly.graph_objects as go\n",
    "pn.extension('plotly')\n",
    "pn.extension()\n",
    "import holoviews as hv\n",
    "import hvplot.pandas\n",
    "import matplotlib.pyplot as plt\n",
    "\n",
    "# Finance\n",
    "import alpaca_trade_api as tradeapi\n",
    "import quandl as ql\n",
    "import finnhub\n",
    "\n",
    "import warnings\n",
    "warnings.filterwarnings('ignore')\n",
    "\n",
    "# Local dependancies\n",
    "import MyPortfolioSimulator"
   ]
  },
  {
   "cell_type": "markdown",
   "id": "5156cd60",
   "metadata": {
    "tags": []
   },
   "source": [
    "### API and static data file paths"
   ]
  },
  {
   "cell_type": "code",
   "execution_count": 2,
   "id": "a3d905eb",
   "metadata": {
    "tags": []
   },
   "outputs": [],
   "source": [
    "API_KEYS_FILE_PATH = Path(\"../resources/api_keys.env\")\n",
    "TICKERS_CSV = Path(\"resources/sp500_tickers.csv\")\n",
    "FUNDAMENTAL_DATA_PATH = Path(\"resources/fundamental_data.csv\")"
   ]
  },
  {
   "cell_type": "markdown",
   "id": "a00cb9a3",
   "metadata": {},
   "source": [
    "---"
   ]
  },
  {
   "cell_type": "markdown",
   "id": "a62a7550",
   "metadata": {},
   "source": [
    "## Data Connections\n",
    "- Static Data Connections\n",
    "- Dynamic Data Connections"
   ]
  },
  {
   "cell_type": "markdown",
   "id": "882a7e0a",
   "metadata": {},
   "source": [
    "### Static Data Connections"
   ]
  },
  {
   "cell_type": "markdown",
   "id": "6e6cea97",
   "metadata": {},
   "source": [
    "##### Stock Ticker Lists"
   ]
  },
  {
   "cell_type": "code",
   "execution_count": 3,
   "id": "a06cba4b",
   "metadata": {
    "tags": []
   },
   "outputs": [],
   "source": [
    "# Get tickers within S&P500 index\n",
    "sp500_tickers_path = Path(TICKERS_CSV)\n",
    "sp500_tickers = pd.read_csv(sp500_tickers_path).sort_values(by=\"Symbol\")"
   ]
  },
  {
   "cell_type": "markdown",
   "id": "d74486a8",
   "metadata": {
    "tags": []
   },
   "source": [
    "#### Fundamental Data List"
   ]
  },
  {
   "cell_type": "code",
   "execution_count": 4,
   "id": "aec53d9a",
   "metadata": {
    "tags": []
   },
   "outputs": [],
   "source": [
    "# Get fundamental data from csv\n",
    "stock_fundamentals_data_path = Path(FUNDAMENTAL_DATA_PATH)\n",
    "stock_fundamentals_df = pd.read_csv(stock_fundamentals_data_path)"
   ]
  },
  {
   "cell_type": "markdown",
   "id": "baaca9d0",
   "metadata": {},
   "source": [
    "### Dynamic Data Connections"
   ]
  },
  {
   "cell_type": "markdown",
   "id": "13f44d14",
   "metadata": {},
   "source": [
    "#### Stock Price Data"
   ]
  },
  {
   "cell_type": "code",
   "execution_count": 5,
   "id": "507fc705",
   "metadata": {
    "tags": []
   },
   "outputs": [],
   "source": [
    "# Alpaca API connector\n",
    "load_dotenv(API_KEYS_FILE_PATH)\n",
    "\n",
    "# Set Alpaca API key and secret\n",
    "alpaca_api_key = os.getenv(\"ALPACA_API_KEY\")\n",
    "alpaca_secret_key = os.getenv(\"ALPACA_SECRET_KEY\")\n",
    "\n",
    "# Create the Alpaca API object\n",
    "api = tradeapi.REST(\n",
    "alpaca_api_key,\n",
    "alpaca_secret_key,\n",
    "api_version = \"v2\"\n",
    ")"
   ]
  },
  {
   "cell_type": "markdown",
   "id": "13447543",
   "metadata": {},
   "source": [
    "#### Fundamental Stock Data"
   ]
  },
  {
   "cell_type": "code",
   "execution_count": 6,
   "id": "cef36b9a",
   "metadata": {
    "tags": []
   },
   "outputs": [],
   "source": [
    "# FinnHub API connector\n",
    "load_dotenv(API_KEYS_FILE_PATH)\n",
    "\n",
    "# Set FinnBug API key\n",
    "finnhub_api_key = os.getenv(\"FINNHUB_API_KEY\")\n",
    "\n",
    "# Create FinnHub API object\n",
    "finnhub_client = finnhub.Client(api_key=finnhub_api_key)\n",
    "\n",
    "# Method to obtain json data from Polygon API\n",
    "def finnhub_data(ticker):\n",
    "    \n",
    "    data = finnhub_client.company_basic_financials(ticker, \"\")\n",
    "    data_df = pd.DataFrame(data)\n",
    "    time.sleep(1)\n",
    "    \n",
    "    return data_df"
   ]
  },
  {
   "cell_type": "markdown",
   "id": "15b3dc3a",
   "metadata": {},
   "source": [
    "#### Bond Data"
   ]
  },
  {
   "cell_type": "code",
   "execution_count": 7,
   "id": "1cd2d145",
   "metadata": {
    "tags": []
   },
   "outputs": [],
   "source": [
    "# Treasury bonds\n",
    "def treasury_data():\n",
    "    return ql.get(\"USTREASURY/YIELD\")"
   ]
  },
  {
   "cell_type": "markdown",
   "id": "4cb6faae",
   "metadata": {},
   "source": [
    "---"
   ]
  },
  {
   "cell_type": "markdown",
   "id": "db6d4cd4",
   "metadata": {
    "tags": []
   },
   "source": [
    "## Data Parsing"
   ]
  },
  {
   "cell_type": "markdown",
   "id": "dc684196",
   "metadata": {},
   "source": [
    "##### Stock Data Parsing Methods\n",
    "A collection of methods for parsing S&P 500 tickers, calling Alpaca Trade API, and querying stock_prices.db database"
   ]
  },
  {
   "cell_type": "markdown",
   "id": "9eae2797",
   "metadata": {},
   "source": [
    "#### Alpaca API Methods"
   ]
  },
  {
   "cell_type": "code",
   "execution_count": 8,
   "id": "e1530f83",
   "metadata": {
    "tags": []
   },
   "outputs": [],
   "source": [
    "# Get prices for tickers withing a given index or sector\n",
    "def stock_prices_from_api(ticker_list, start_date, end_date):\n",
    "    '''Returns pd.DataFrame with prices for the given tickers\n",
    "    \n",
    "    ...\n",
    "    \n",
    "    Parameters\n",
    "    ----------\n",
    "    tickers_df : pd.DataFrame - contains tickers for given index or sector under \n",
    "        the \"Symbol\" column which is the DataFrame key\n",
    "    start_date : str() - string with date in following format YYYY-MM-DD\n",
    "    end_date: str() - string with date in following format YYYY-MM-DD \n",
    "    \n",
    "    \n",
    "    Returns\n",
    "    -------\n",
    "    result_df : pd.DataFrame with securities price data\n",
    "    '''\n",
    "   \n",
    "    # Get list of tickers from the tickers_df list or tickers_df DataFrame \n",
    "    tickers = ticker_list\n",
    "    \n",
    "    # Parse start and end dates\n",
    "    start_date = pd.Timestamp(start_date, tz=\"America/New_York\").isoformat()\n",
    "    end_date = pd.Timestamp(end_date, tz=\"America/New_York\").isoformat()\n",
    "    \n",
    "    # Connect to Alpaca API and get data\n",
    "    \"\"\"Condition handling: \n",
    "        a. Alpaca API 422 Client Error if more than 100 tickers are passed - COMPLETE\n",
    "        b. Alpaca API data max row limit of 1000 - PENDING\"\"\"\n",
    "    \n",
    "    \n",
    "    # a. Alpaca API condition handling, sending 100 tickers at a time\n",
    "    # Declate a pd.DataFrame\n",
    "    result_df = pd.DataFrame()\n",
    "    tickers_n = 50\n",
    "    \n",
    "    for i in range(0, len(tickers), tickers_n):\n",
    "        # Slice the ticker list into lists of 50 tickers\n",
    "        sliced_tickers = tickers[i:i + tickers_n] \n",
    "        \n",
    "        temp_df = api.get_barset(\n",
    "        sliced_tickers,\n",
    "        timeframe = \"1D\",\n",
    "        start = start_date,\n",
    "        end = end_date,\n",
    "        limit = 1000).df\n",
    "\n",
    "        # Append temporary dataframe to result_df\n",
    "        result_df = pd.concat([result_df, temp_df], axis = \"columns\", join = \"outer\")\n",
    "        time.sleep(0.1)\n",
    "        \n",
    "    return result_df"
   ]
  },
  {
   "cell_type": "markdown",
   "id": "e60205ae",
   "metadata": {
    "tags": []
   },
   "source": [
    "---"
   ]
  },
  {
   "cell_type": "markdown",
   "id": "42a23f1e",
   "metadata": {
    "tags": []
   },
   "source": [
    "## Technical Methods"
   ]
  },
  {
   "cell_type": "markdown",
   "id": "5a6b92d2",
   "metadata": {
    "tags": []
   },
   "source": [
    "Technical analysis methods: \n",
    "- RSI \n",
    "- MACD "
   ]
  },
  {
   "cell_type": "markdown",
   "id": "04e7c527",
   "metadata": {},
   "source": [
    "### Technical Data Methods"
   ]
  },
  {
   "cell_type": "markdown",
   "id": "749e8c57",
   "metadata": {},
   "source": [
    "##### RSI - Relative Strenght Index"
   ]
  },
  {
   "cell_type": "code",
   "execution_count": 9,
   "id": "0f74fb41",
   "metadata": {
    "tags": []
   },
   "outputs": [],
   "source": [
    "# RSI method : Calculate the RSI indicator\n",
    "def rsi_table (df, days):\n",
    "    '''Returns a pd.DataFrame with Relative Strength Index (RSI) column appended\n",
    "        RSI formula = 100 – (100 / (1 + RS) or can also use 100 * up / (Up + Down)\n",
    "        Where RS (relative strengh)  = Up / Down\n",
    "        Where Up = rolling average price up over the time window obeserved\n",
    "        Where Down = rolling average price down over the time window obeserved\n",
    "    \n",
    "        Parameters\n",
    "        ----------\n",
    "        df : pd.DataFrame - dataframe to be processed\n",
    "        days : int() - numbers of days for RSI calcualtion\n",
    "    \n",
    "        Returns\n",
    "        -------\n",
    "        result_df : pd.DataFrame - dataframe with RSI column appended, calcualted daily for \n",
    "        timeperiod specified by days\n",
    "    '''\n",
    "    \n",
    "    # Filter datafrance to clumn \"close\" only to facilitate the calculs\n",
    "    stocks_close = df.iloc[:,df.columns.get_level_values(1)=='close']\n",
    "    # Swap the column multilevel index to facilitate the calculs\n",
    "    stocks_close = stocks_close.swaplevel(0,1,axis=1)\n",
    "    \n",
    "    # Calculate the movement on the price compared to the previous day closing price\n",
    "    movement_1d = stocks_close - stocks_close.shift(1)\n",
    "    movement_1d.rename(columns={'close':'movement_1d'}, level=0, inplace=True)\n",
    "\n",
    "    # Define a sub-function to calculate the RSI\n",
    "    def rsi (price):\n",
    "        up = price[price>0].mean()\n",
    "        down = abs(price[price<0]).mean()\n",
    "        return 100 * up / (up + down)\n",
    "        \n",
    "    # Calculate the RSI and add it to a dataframe\n",
    "    rsi_df = movement_1d.rolling(window=days).apply(rsi)\n",
    "    rsi_df.rename(columns={'movement_1d':'RSI'}, level=0, inplace=True)\n",
    "    \n",
    "    # Remove the first dates that return NaN from the rolling days calculation\n",
    "    rsi_df = rsi_df[days:]\n",
    "\n",
    "    return rsi_df"
   ]
  },
  {
   "cell_type": "markdown",
   "id": "c682365e",
   "metadata": {
    "tags": []
   },
   "source": [
    "##### MACD - Moving Average Convergence/Divergence"
   ]
  },
  {
   "cell_type": "code",
   "execution_count": 10,
   "id": "022ec5b3",
   "metadata": {
    "tags": []
   },
   "outputs": [],
   "source": [
    "# MACD method : Calculate the MACD indicator with its Signal line\n",
    "def macd_table(df, short_window, long_window, signal_window):\n",
    "    ''' Moving Average Convergence Divergence (MACD) \n",
    "        Returns a pd.DataFrame with MACD and its Signal line column appended\n",
    "        MACD formula = (12-day EMA - 26-day EMA)\n",
    "        Signal line = MACD 9-day EMA\n",
    "    \n",
    "        Parameters\n",
    "        ----------\n",
    "        df : pd.DataFrame - dataframe to be processed\n",
    "        short_ema : int() - short-term EMA for MACD calculation => default should be 12 days\n",
    "        long_ema : int() - long-term EMA for MACD calculation => defaultshould be 26 days\n",
    "\n",
    "        Returns\n",
    "        -------\n",
    "        result_df : pd.DataFrame - dataframe with MACD and Signal line column appended, calcualted daily for \n",
    "        timeperiod specified by days\n",
    "    '''\n",
    "\n",
    "    # Filter datafrance to clumn \"close\" only to facilitate the calculs\n",
    "    stocks_close = df.iloc[:,df.columns.get_level_values(1)=='close']\n",
    "    stocks_close = stocks_close.swaplevel(0,1,axis=1)\n",
    "    \n",
    "    # Define a sub-function to calculate the MACD\n",
    "    def macd (price):\n",
    "        short_ema = price.ewm(span=short_window, adjust=False).mean()\n",
    "        long_ema = price.ewm(span=long_window, adjust=False).mean()\n",
    "        macd_value = short_ema - long_ema\n",
    "        return macd_value\n",
    "    \n",
    "    # Calculate the MACD and add it to a dataframe\n",
    "    macd = stocks_close.apply(macd)\n",
    "    macd.rename(columns={'close':'MACD'}, level=0, inplace=True)\n",
    "\n",
    "    # Calculate the Signal line value\n",
    "    signal = macd.ewm(span=9, adjust=False).mean()\n",
    "    signal.rename(columns={'MACD':'MACD_Signal'}, level=0, inplace=True)\n",
    "    \n",
    "    # Concatenate/append both indicators to a new dataframe\n",
    "    result_df = pd.concat([macd, signal], axis=1, join='inner')\n",
    "\n",
    "    return result_df"
   ]
  },
  {
   "cell_type": "markdown",
   "id": "d4fecefe",
   "metadata": {
    "tags": []
   },
   "source": [
    "### RSI Trader"
   ]
  },
  {
   "cell_type": "code",
   "execution_count": 11,
   "id": "6aad77d3",
   "metadata": {
    "tags": []
   },
   "outputs": [],
   "source": [
    "def rsi_trader(tickers_list : list(), \n",
    "               lower_level : int(), \n",
    "               upper_level : int(), \n",
    "               start_date : str(), \n",
    "               end_date : str(), \n",
    "               rsi_range : int()):\n",
    "    '''Returns a pd.DataFrame of a portoflio where position entry and exit are \n",
    "        determined by Relative Strength Index (RSI) values provided by the user.\n",
    "    \n",
    "        Parameters\n",
    "        ----------\n",
    "        tickers_list : list() - list of tickers to be traded\n",
    "        lower_level : int() - lower level of RSI provided by user\n",
    "        upper_level : int() - upper level of RSI provided by user\n",
    "        start_date : str() - analysis start date string \"YYYY-MM-DD\"\n",
    "        end_date : str() - analysis end date string \"YYYY-MM-DD\"\n",
    "        rsi_range : int() - numbers of days for RSI calcualtion\n",
    "    \n",
    "        Returns\n",
    "        -------\n",
    "        result_df : pd.DataFrame - RSI traded portfolio\n",
    "    '''\n",
    "    \n",
    "    # Get stock prices form Alpaca Trade API\n",
    "    stock_prices = stock_prices_from_api(tickers_list, start_date, end_date)\n",
    "    \n",
    "    # Collapse multi-index to yield a single-index df with 'close' prices\n",
    "    try:\n",
    "        formatted_stock_prices = stock_prices.xs('close', axis=1, level=1, drop_level=False).droplevel(1, axis=1)\n",
    "    except:\n",
    "        formatted_stock_prices = pd.DataFrame({'time' : [datetime.strptime('2020-01-01', \"%Y-%m-%d\")], 'close' : [0.0]})\n",
    "        print(\"RSI Portfolio Builder received an empty pd.DataFrame of stock prices\")\n",
    "        raise \n",
    "\n",
    "    # Declare RSI df\n",
    "    rsi_df = pd.DataFrame()   \n",
    "    \n",
    "    # Declare arbitrary cash position df and seed it\n",
    "    cash_seed = 1000000.0\n",
    "    cash_position = {}\n",
    "    cash_position[0] = {'time' : formatted_stock_prices.index[0], 'close' : cash_seed}\n",
    "    \n",
    "    # Track long stock positions\n",
    "    long_stock_position_tracker = {}\n",
    "    for ticker in tickers_list:\n",
    "        long_stock_position_tracker[ticker] = False\n",
    "    \n",
    "    # Build RSI trader positions over time\n",
    "    ## iterate ticker colums\n",
    "    for ticker in tickers_list:\n",
    "        \n",
    "        ### Declate dict for stock positions\n",
    "        stock_seed = 0.0\n",
    "        stock_position = {}\n",
    "        stock_position[0] = {'time' : formatted_stock_prices.index[0], 'close' : stock_seed, 'rsi' : 0, 'stock_price' : 0, 'cash' : cash_seed/len(tickers_list)}\n",
    "        \n",
    "        ### generate df for ticker\n",
    "        ticker_df = pd.DataFrame(formatted_stock_prices[ticker]).reset_index()\n",
    "\n",
    "        # Calculate RSI\n",
    "        delta = ticker_df[ticker].diff()\n",
    "        move_up = delta.clip(lower=0)\n",
    "        move_down = -1*delta.clip(upper=0)\n",
    "        ema_up = move_up.ewm(com=rsi_range, adjust=False).mean()\n",
    "        ema_down = move_down.ewm(com=rsi_range, adjust=False).mean()\n",
    "        relative_strenght = ema_up/ema_down\n",
    "        \n",
    "        # add RSI to df\n",
    "        ticker_df['rsi'] = 100 - (100/(1 + relative_strenght))\n",
    "        \n",
    "        # Skip first 14 days\n",
    "        ticker_df = ticker_df.iloc[14:]   \n",
    "    \n",
    "        #### iterate over the trading days\n",
    "        for day in range(len(ticker_df.index)):\n",
    "            ### get data for previous and current days and get RSI\n",
    "            date = ticker_df.iloc[day,:]['time']\n",
    "            stock_price = ticker_df.iloc[day,:][ticker]\n",
    "            previous_day_rsi  = float(ticker_df.iloc[day-1, 2])\n",
    "            current_day_rsi = float(ticker_df.iloc[day, 2])\n",
    "\n",
    "            #### Trade logic - Open Long Position\n",
    "            if previous_day_rsi < float(lower_level) and current_day_rsi > float(lower_level):\n",
    "\n",
    "                ##### Check if long stock -> pass\n",
    "                if long_stock_position_tracker[ticker] == True:\n",
    "                    ## Adjust position\n",
    "                    stock_position[day] = {'time' : date, 'close' : stock_position[day-1]['close'], 'rsi' : current_day_rsi,  'stock_price' : stock_price, 'cash' : stock_position[day-1]['cash']}\n",
    "\n",
    "\n",
    "                #### Check if not long stock -> Go long\n",
    "                elif long_stock_position_tracker[ticker] == False:\n",
    "                    # Long position entry triggered\n",
    "\n",
    "                    ## Adjust position\n",
    "                    stock_adj = (cash_seed/len(tickers_list))/stock_price\n",
    "                    cash_adj = 0\n",
    "\n",
    "                    stock_position[day] = {'time' : date, 'close' : stock_adj, 'rsi' : current_day_rsi,  'stock_price'  : stock_price, 'cash' : cash_adj}\n",
    "\n",
    "                    long_stock_position_tracker[ticker] = True\n",
    "\n",
    "            ### Trade Logic - Close Long Position\n",
    "            elif previous_day_rsi > float(upper_level) and current_day_rsi < float(upper_level):\n",
    "\n",
    "                #### Check if not long stock -> pass\n",
    "                if long_stock_position_tracker[ticker] == False:\n",
    "                    ## Adjust position\n",
    "                    try:\n",
    "                        stock_position[day] = {'time' : date, 'close' : stock_position[day-1]['close'], 'rsi' : current_day_rsi,  'stock_price' : stock_price, 'cash' : stock_position[day-1]['cash']}\n",
    "                    except:\n",
    "                        stock_position[day] = {'time' : date, 'close' : 0, 'rsi' : current_day_rsi,  'stock_price' : stock_price, 'cash' : cash_seed/len(tickers_list)}\n",
    "\n",
    "                #### Check if long stock -> Close long\n",
    "                if long_stock_position_tracker[ticker] == True:\n",
    "                    # Long position exit triggered\n",
    "                    ## Adjust cash position\n",
    "                    cash_adj = stock_position[day-1]['cash'] + stock_position[day-1]['close'] * stock_price\n",
    "                    stock_adj = 0\n",
    "\n",
    "                    stock_position[day] = {'time' : date, 'close' : stock_adj, 'rsi' : current_day_rsi,  'stock_price' : stock_price, 'cash' : cash_adj}\n",
    "\n",
    "                    long_stock_position_tracker[ticker] = False\n",
    "\n",
    "            ### Trade Logic - No Trade\n",
    "            else:\n",
    "                ## Adjust position\n",
    "                try:\n",
    "                    stock_position[day] = {'time' : date, 'close' : stock_position[day-1]['close'], 'rsi' : current_day_rsi,  'stock_price' : stock_price, \"cash\" : stock_position[day-1]['cash']}\n",
    "                except:\n",
    "                    stock_position[day] = {'time' : date, 'close' : 0, 'rsi' : current_day_rsi,  'stock_price'  : stock_price, 'cash' : cash_seed/len(tickers_list)}\n",
    "                \n",
    "\n",
    "        # Transpose stock_position_df   \n",
    "        stock_position_df = pd.DataFrame(stock_position).transpose()\n",
    "        \n",
    "        # Set index to tim\n",
    "        stock_position_df = stock_position_df.set_index('time')\n",
    "        \n",
    "        # Calculate stock_position_df positon value\n",
    "        stock_position_df[ticker] = (stock_position_df['close'] * stock_position_df['stock_price']) + stock_position_df['cash']\n",
    "        \n",
    "        # Concatentate stock_position_df into master df\n",
    "        rsi_df = pd.concat([rsi_df,stock_position_df[ticker]], axis='columns', join='outer')\n",
    "    \n",
    "    # Get total portfolio value\n",
    "    rsi_portfolio_sum = rsi_df.sum(axis=1)/cash_seed-1\n",
    "\n",
    "    return rsi_portfolio_sum"
   ]
  },
  {
   "cell_type": "markdown",
   "id": "fa8c5aa3",
   "metadata": {
    "tags": []
   },
   "source": [
    "---"
   ]
  },
  {
   "cell_type": "markdown",
   "id": "9f49555a",
   "metadata": {
    "tags": []
   },
   "source": [
    "## FundamentalMethods"
   ]
  },
  {
   "cell_type": "markdown",
   "id": "68574d18",
   "metadata": {
    "tags": []
   },
   "source": [
    "Fundamental analysis methods\n",
    "- PE - Price to earnings ratio\n",
    "- EPS - Earnings per share\n",
    "- Dividend"
   ]
  },
  {
   "cell_type": "markdown",
   "id": "04c0cb0f",
   "metadata": {
    "tags": []
   },
   "source": [
    "### Fundamental Data Methods"
   ]
  },
  {
   "cell_type": "code",
   "execution_count": 12,
   "id": "6638953e",
   "metadata": {
    "tags": []
   },
   "outputs": [],
   "source": [
    "# Get stock fundamental data from FinnHub\n",
    "def generate_stock_fundamentals_from_finnhub(tickers_df):\n",
    "    '''Returns pd.DataFrame with fundamentals of tickers within tickers_df\n",
    "    \n",
    "    ...\n",
    "    Parameters\n",
    "    ----------\n",
    "    tickers_df : pd.DataFrame - contains tickers for given index or sector under \n",
    "        the \"Symbol\" column which is the DataFrame key\n",
    "        \n",
    "    Returns\n",
    "    -------\n",
    "    result_df : pd.DataFrame - securities fundamental data\n",
    "    '''\n",
    "    \n",
    "    result_df = pd.DataFrame()\n",
    "    \n",
    "    for ticker in tickers_df['Symbol']:\n",
    "        fundamental_data = finnhub_data(ticker)\n",
    "        result_df = pd.concat([result_df, fundamental_data], axis='rows', join=\"outer\")\n",
    "        \n",
    "    # Parse the dataframe\n",
    "    result_df = result_df.reset_index().set_index('symbol')\n",
    "    result_df = result_df.drop('metricType', 1)\n",
    "    result_df.columns = ['metric_type', 'metric', 'series']\n",
    "    \n",
    "    return result_df\n",
    "\n",
    "\n",
    "# Refresh stock fundamental data csv\n",
    "def refresh_fundamentals_csv(tickers_df):\n",
    "    '''Helper method - returns pd.DataFrame with fundamentals of tickers within tickers_df\n",
    "    and/or calls to generate a refreashed dataset.\n",
    "    \n",
    "    Generates a CSV file with updated Fundamental values\n",
    "    \n",
    "    ...\n",
    "    Parameters\n",
    "    ----------\n",
    "    tickers_df : pd.DataFrame - contains tickers for given index or sector under \n",
    "        the \"Symbol\" column which is the DataFrame key\n",
    "    '''\n",
    "    result_df = generate_stock_fundamentals_from_finnhub(tickers_df)\n",
    "    result_df.to_csv(\"resources/fundamental_data.csv\", mode='w')\n",
    "    \n",
    "\n",
    "# Fundamental data filter\n",
    "def fundamental_data_query(tickers_df, stock_fundamentals_df, fundamental_indicator_keys):\n",
    "    '''Returns a pd.DataFrame of fundamental data filtered by user input range\n",
    "    \n",
    "    ...\n",
    "    \n",
    "    Parameters\n",
    "    ----------\n",
    "    tickers_df : pd.DataFrame - dataframe to be processed, contains tickers\n",
    "    fundamental_indicator_key : str() - keyword for fundamental indicator requested\n",
    "    \n",
    "        Fundamental indicator keys ->\n",
    "        \n",
    "        P/E Ratio : [pe_ratio]\n",
    "        EPS (Earnings per Share) : [eps]\n",
    "        Annual Dividend : [dividend]\n",
    "        Beta (vs. S&P 500) : [beta]\n",
    "        EBIDT : [ebidt]\n",
    "        Quick Ratio : [quick_ratio]\n",
    "        3 Year Revenue Growth : [rev_growth]\n",
    "        Free Cash Flow : [cash_flow]\n",
    "    \n",
    "    lower_bound : int() or float() - lower bound for fundamental value filter, default = -1000000\n",
    "    upper_bound : int() or float() - upper bound for fundamental value filter, default = 1000000\n",
    "     \n",
    "    Returns\n",
    "    -------\n",
    "    result_df : pd.DataFrame - dataframe with ticker and filtered fundamental data\n",
    "    '''\n",
    "\n",
    "    fund_indicators_dict = {\n",
    "        'pe_ratio' : 'peNormalizedAnnual',\n",
    "        'eps' : 'epsNormalizedAnnual',\n",
    "        'dividend' : 'dividendsPerShareTTM',\n",
    "        'beta' : 'beta',\n",
    "        'ebidt' : 'ebitdPerShareTTM',\n",
    "        'quick_ratio' : 'quickRatioAnnual',\n",
    "        'rev_growth' : 'revenueGrowth3Y',\n",
    "        'free_cash_flow' : 'freeCashFlowAnnual'   \n",
    "    }\n",
    "\n",
    "    # Declare result_df\n",
    "    result_df = pd.DataFrame()\n",
    "    \n",
    "    # Declate tickers list\n",
    "    tickers_list = tickers_df['Symbol']\n",
    "    \n",
    "    # Declare fundamental data df and filter by ticker df\n",
    "    data_df = stock_fundamentals_df[stock_fundamentals_df.symbol.isin(tickers_list)]\n",
    "    data_df = data_df.set_index(['symbol'])\n",
    "    \n",
    "    # Extract requested fundamental data\n",
    "    for ind in fundamental_indicator_keys:\n",
    "        df = data_df[data_df['metric_type'] == fund_indicators_dict[ind]]\n",
    "        result_df = pd.concat([result_df, df], axis = 1, join = 'outer')\n",
    "    \n",
    "        # Clean up df\n",
    "        result_df = result_df.drop(columns = ['metric_type', 'series'])\n",
    "        result_df = result_df.rename(columns = {'symbol' : 'ticker', \n",
    "                                'metric' : ind})\n",
    "        \n",
    "            # Convert all df values to numeric\n",
    "        result_df[ind] = result_df[ind].apply(pd.to_numeric)\n",
    "    \n",
    "    return result_df"
   ]
  },
  {
   "cell_type": "markdown",
   "id": "00d5632d",
   "metadata": {
    "tags": []
   },
   "source": [
    "### Fundamental Portfolio Methods"
   ]
  },
  {
   "cell_type": "code",
   "execution_count": 13,
   "id": "30442427",
   "metadata": {
    "tags": []
   },
   "outputs": [],
   "source": [
    "# Generate pd.DataFrame of fundamental values needed for Dashboard filtering\n",
    "fundamental_values = fundamental_data_query(sp500_tickers, stock_fundamentals_df, ['eps', 'pe_ratio', 'dividend','ebidt','quick_ratio','rev_growth','free_cash_flow'])"
   ]
  },
  {
   "cell_type": "code",
   "execution_count": 14,
   "id": "0693efb3",
   "metadata": {
    "tags": []
   },
   "outputs": [],
   "source": [
    "# Filter stocks by Dashboard selection\n",
    "def filter_stocks_by_fundamentals(pe_range: tuple, \n",
    "                                  eps_range: tuple,\n",
    "                                  dividend_range: tuple):\n",
    "    '''Returns pd.DataFrame with filtered stocks by user criteria\n",
    "    \n",
    "    ...\n",
    "    Parameters\n",
    "    ----------\n",
    "    pe_range : tuple - contains float()'s with user defined PE range\n",
    "    epn_range : tuple - contains float()'s with user defined EPS range\n",
    "    dividend_range : tuple - contains float()'s with user defined Dividend range\n",
    "        \n",
    "    Returns\n",
    "    -------\n",
    "    result_df : pd.DataFrame - dataframe with ticker and filtered fundamental data\n",
    "    '''\n",
    "    \n",
    "    # Filter PE and EPS\n",
    "    min_pe = pe_range[0]\n",
    "    max_pe = pe_range[1]\n",
    "    \n",
    "    min_eps = eps_range[0]\n",
    "    max_eps = eps_range[1]\n",
    "    \n",
    "    min_dividend = dividend_range[0]\n",
    "    max_dividend = dividend_range[1]\n",
    "    \n",
    "    # Filer fundamental_values dataframe by value range\n",
    "    result_df = fundamental_values[(fundamental_values['eps'] >= min_eps) & \n",
    "                                   (fundamental_values['eps'] <= max_eps) & \n",
    "                                   \n",
    "                                   (fundamental_values['pe_ratio'] >= min_pe) & \n",
    "                                   (fundamental_values['pe_ratio'] <= max_pe) &\n",
    "                                   \n",
    "                                   (fundamental_values['dividend'] >= min_dividend) & \n",
    "                                   (fundamental_values['dividend'] <= max_dividend)\n",
    "                                  ]\n",
    "    \n",
    "    return result_df\n",
    "\n",
    "\n",
    "# List of dates between two user selected dates\n",
    "def list_of_dates_between_two_dates(start_date: str,\n",
    "                                    end_date: str):  \n",
    "    '''\n",
    "    Helper function to ger a range of dates between two dates\n",
    "    '''\n",
    "    return (pd.date_range(start_date, end_date-timedelta(days=1), freq='d').strftime(\"%Y-%m-%d\").to_list())\n",
    "\n",
    "\n",
    "# Build fundamental portfolio\n",
    "def get_fundamental_portfolio(ticker_list,\n",
    "                                start_date: str = \"2020-01-01\", \n",
    "                                end_date: str = \"2021-05-01\"):\n",
    "    '''Returns pd.DataFrame weighted cumulative product portfolio\n",
    "    \n",
    "    ...\n",
    "    Parameters\n",
    "    ----------\n",
    "    ticker_list : list - contains tickers to be processed\n",
    "    start_date : str() - analysis start date string \"YYYY-MM-DD\"\n",
    "    end_date : str() - analysis end date string \"YYYY-MM-DD\"\n",
    "        \n",
    "    Returns\n",
    "    -------\n",
    "    result_df : pd.DataFrame - dataframe with ticker and filtered fundamental data\n",
    "    '''\n",
    "    \n",
    "    # Get stock prices for given stocks \n",
    "    stock_prices = stock_prices_from_api(ticker_list, start_date, end_date)\n",
    "    \n",
    "    idx = pd.IndexSlice\n",
    "    index = list(stock_prices.transpose().index.get_level_values(0))\n",
    "    try:\n",
    "        formatted_stock_prices = stock_prices.xs('close', axis=1, level=1, drop_level=False).droplevel(1, axis=1)\n",
    "    except:\n",
    "        formatted_stock_prices = pd.DataFrame({'time' : ['2020_01_01'], 'close' : [0.0]})\n",
    "    \n",
    "    # For equal weight portfolio\n",
    "    ntickers = len(ticker_list)\n",
    "    weights = np.full(ntickers, (1.0 / ntickers))\n",
    "    \n",
    "    \n",
    "    equal_weighted_portfolio = formatted_stock_prices.pct_change().dot(weights).cumsum().dropna()\n",
    "        \n",
    "    return equal_weighted_portfolio"
   ]
  },
  {
   "cell_type": "markdown",
   "id": "289cdbf7",
   "metadata": {
    "tags": []
   },
   "source": [
    "## Data Visualization"
   ]
  },
  {
   "cell_type": "markdown",
   "id": "4d332a86",
   "metadata": {
    "tags": []
   },
   "source": [
    "### Powerfolio! Dashboard"
   ]
  },
  {
   "cell_type": "markdown",
   "id": "a7b92abd",
   "metadata": {},
   "source": [
    "#### Heading"
   ]
  },
  {
   "cell_type": "code",
   "execution_count": 15,
   "id": "25b2c14a",
   "metadata": {
    "tags": []
   },
   "outputs": [],
   "source": [
    "# Color palatte\n",
    "background_color = \"WhiteSmoke\"\n",
    "\n",
    "# Dashboard title\n",
    "title_panel = pn.Row(\n",
    "    pn.panel(\"images/logo.png\", height=60),\n",
    "    pn.Column(\"#Powerfolio!\", width=1000),\n",
    "    pn.Spacer(background=background_color, sizing_mode='stretch_both'),\n",
    "    width_policy='max',\n",
    "    sizing_mode='stretch_both',\n",
    "    background=background_color)"
   ]
  },
  {
   "cell_type": "markdown",
   "id": "da4353dd",
   "metadata": {},
   "source": [
    "#### Welcome to Powerfolio! Tab"
   ]
  },
  {
   "cell_type": "code",
   "execution_count": 16,
   "id": "2e031dd6",
   "metadata": {
    "tags": []
   },
   "outputs": [],
   "source": [
    "welcome_message = pn.Column(\"Powerfolio! Implements:\",\n",
    "                           \" - fundamental analysis (P/E, EPS, Dividend)\",\n",
    "                           \" - technical analysis (RSI, MACD)\",\n",
    "                           \" - traditional  portfolio analysis (Sharpe Ratio, Efficient Frontier)\",\n",
    "                          \"to turn your portfolio into a power-folio!\")\n",
    "\n",
    "# Loading bars\n",
    "fundamental_refresh_loading_bar = pn.indicators.Progress(name='Progress', active=False, width=200, bar_color = 'primary')\n",
    "offline_db_loading_bar = pn.indicators.Progress(name='Progress', active=False, width=200, bar_color = 'danger')\n",
    "\n",
    "#####################################################################\n",
    "\n",
    "# Refresh fundamentals button\n",
    "btn_refresh_fundamental_data_descriptor = \"Refreshes stock fundamental data for S&P 500 from FinnHub (API key required) <br><br> This may take 5-10 minutes\"\n",
    "btn_refresh_fundamental_data = pn.widgets.Button(name='Refresh Fundamentals', button_type='primary', width=200)\n",
    "\n",
    "# Refresh fundamentals button event method\n",
    "def refresh_fundamental_data_event(event):\n",
    "    fundamental_refresh_loading_bar.active = True\n",
    "    refresh_fundamentals_csv(sp500_tickers)\n",
    "    fundamental_refresh_loading_bar.active = False\n",
    "    \n",
    "## Refresh fundamentals button on-click\n",
    "btn_refresh_fundamental_data.on_click(refresh_fundamental_data_event)\n",
    "\n",
    "#####################################################################\n",
    "\n",
    "# Welcome to Powerfolio! tabs\n",
    "welcome_to_powerfolio = pn.Column(\n",
    "    welcome_message,\n",
    "    pn.layout.Divider(margin=(0, 0, 0, 0)),\n",
    "    \n",
    "    \n",
    "    pn.Column(\"## Refresh Fundamental Data\",\n",
    "              btn_refresh_fundamental_data_descriptor,\n",
    "              pn.Row(btn_refresh_fundamental_data, fundamental_refresh_loading_bar),\n",
    "              pn.layout.Divider(margin=(+5, 0, 0, 0)))\n",
    ")"
   ]
  },
  {
   "cell_type": "markdown",
   "id": "f469501a",
   "metadata": {},
   "source": [
    "#### Fundamental Portfolio Dashboard"
   ]
  },
  {
   "cell_type": "code",
   "execution_count": 17,
   "id": "acfc27f4",
   "metadata": {
    "tags": []
   },
   "outputs": [],
   "source": [
    "# Fundamental value filter\n",
    "fundamental_filter_title = pn.panel(\"### Fundamental Stock Selector\")"
   ]
  },
  {
   "cell_type": "code",
   "execution_count": 18,
   "id": "6296fee2",
   "metadata": {
    "tags": []
   },
   "outputs": [],
   "source": [
    "## Generate date range for DatePicker\n",
    "date_range = list_of_dates_between_two_dates(date.fromisoformat('2015-01-01'),\n",
    "                                             date.fromisoformat(datetime.today().strftime(\"%Y-%m-%d\")))\n",
    "\n",
    "\n",
    "## DatePicker - selects date range for simlated portfolio\n",
    "datepicker_date_start_date_selector = pn.widgets.DatePicker(name=\"Start Date:\", enabled_dates=date_range, width=100)\n",
    "datepicker_date_end_date_selector = pn.widgets.DatePicker(name=\"End Date:\", enabled_dates=date_range, width=100)\n",
    "\n",
    "\n"
   ]
  },
  {
   "cell_type": "code",
   "execution_count": 19,
   "id": "16770806",
   "metadata": {
    "tags": []
   },
   "outputs": [],
   "source": [
    "# PE filter\n",
    "## Get PE value range\n",
    "min_pe_value =  round(float(fundamental_values['pe_ratio'].min()),2)\n",
    "max_pe_value =  round(float(fundamental_values['pe_ratio'].max()),2)\n",
    "\n",
    "## TextInput - input minimum and maximum PE values\n",
    "text_input_min_pe_values = pn.widgets.TextInput(name='Min', max_width=70, placeholder = str(min_pe_value))\n",
    "text_input_max_pe_values = pn.widgets.TextInput(name='Max', max_width=70, placeholder = str(max_pe_value))\n",
    "\n",
    "\n",
    "\n",
    "# EPS filter\n",
    "## Get EPS value range\n",
    "min_eps_value = round(float(fundamental_values['eps'].min()),2)\n",
    "max_eps_value = round(float(fundamental_values['eps'].max()),2)\n",
    "\n",
    "## Text Input - input minimum and maximum EPS values\n",
    "text_input_min_eps_values = pn.widgets.TextInput(name='Min', max_width=70, placeholder = str(min_eps_value))\n",
    "text_input_max_eps_values = pn.widgets.TextInput(name='Min', max_width=70, placeholder = str(max_eps_value))\n",
    "\n",
    "\n",
    "\n",
    "# Dividend filter\n",
    "## Get Divident value range\n",
    "min_dividend_value = round(float(fundamental_values['dividend'].min()),2)\n",
    "max_dividend_value = round(float(fundamental_values['dividend'].max()),2)\n",
    "\n",
    "## TextInput - input minimum and maximum Dividend values\n",
    "text_input_min_dividend_values = pn.widgets.TextInput(name='Min', max_width=70, placeholder = str(min_dividend_value))\n",
    "text_input_max_dividend_values = pn.widgets.TextInput(name='Min', max_width=70, placeholder = str(max_dividend_value))"
   ]
  },
  {
   "cell_type": "code",
   "execution_count": 20,
   "id": "c09e29ee",
   "metadata": {
    "tags": []
   },
   "outputs": [],
   "source": [
    "# Declare filtered_fundamental_stocks_df and populate with all stocks\n",
    "filtered_fundamental_stocks_df = filter_stocks_by_fundamentals((min_pe_value, max_pe_value),\n",
    "                                                               (min_eps_value, max_eps_value),\n",
    "                                                               (min_dividend_value, max_dividend_value)\n",
    "                                                              )\n",
    "\n",
    "# Generate fundamental stock viewer DataFrame view \n",
    "fundamental_stocks_dataframe_viewer = pn.widgets.DataFrame(filtered_fundamental_stocks_df, \n",
    "                                                           name='Filtered Stocks',\n",
    "                                                           sortable=True,\n",
    "                                                           autosize_mode='fit_viewport',\n",
    "                                                           frozen_columns=0,\n",
    "                                                           height=350\n",
    "                                                          )"
   ]
  },
  {
   "cell_type": "code",
   "execution_count": 21,
   "id": "ed4cc19b",
   "metadata": {
    "tags": []
   },
   "outputs": [],
   "source": [
    "# Filtered fundamentals dataframe\n",
    "global fundamental_stocks_dataframe\n",
    "global fundamental_stock_portfolio\n",
    "\n",
    "\n",
    "# Button - filteres stocks by user selected fundamental values\n",
    "btn_update_fundamental_stocks_dataframe_viewer = pn.widgets.Button(name='Apply selection', button_type='primary')\n",
    "\n",
    "\n",
    "# Fundamental portfolio plot\n",
    "fundamental_stock_portfolio = pd.DataFrame({'time' : [datetime.strptime('2020-01-01', '%Y-%m-%d')], \n",
    "                                           'close' : [0.0]})\n",
    "\n",
    "fundamental_portfolio_plot =  fundamental_stock_portfolio.hvplot(x='time',\n",
    "                                                                 y='close',\n",
    "                                                                 title='Portfolio',\n",
    "                                                                 ylabel='Portfolio Returns, %',\n",
    "                                                                 height=700,\n",
    "                                                                legend='right')\n",
    "\n",
    "fundamental_technical_portfolio_plot_panel = pn.panel(fundamental_portfolio_plot)\n",
    "\n",
    "# Refresh filtered stock results and dtaframe display\n",
    "def update_fundamental_stocks_dataframe_viewer(event):\n",
    "    global fundamental_stocks_dataframe\n",
    "    \n",
    "    min_pe_range_selected = min_pe_value\n",
    "    max_pe_range_selected = max_pe_value\n",
    "    min_eps_range_selected = min_eps_value\n",
    "    max_eps_range_selected = max_eps_value\n",
    "    min_dividend_range_selected = min_dividend_value\n",
    "    max_dividend_range_selected = max_dividend_value\n",
    "    \n",
    "    # set user defined RSI values\n",
    "    if text_input_min_pe_values.value != \"\":\n",
    "        min_pe_range_selected = float(text_input_min_pe_values.value)\n",
    "        \n",
    "    if text_input_max_pe_values.value != \"\":\n",
    "        max_pe_range_selected = float(text_input_max_pe_values.value)\n",
    "    \n",
    "    \n",
    "    # set user defined EPS values\n",
    "    if text_input_min_eps_values.value != \"\":\n",
    "        min_eps_range_selected = float(text_input_min_eps_values.value)\n",
    "        \n",
    "    if text_input_max_eps_values.value != \"\":\n",
    "        max_eps_range_selected = float(text_input_max_eps_values.value)\n",
    "\n",
    "    \n",
    "    # set user defined Devidend values\n",
    "    if text_input_min_dividend_values.value != \"\":\n",
    "        min_dividend_range_selected = float(text_input_min_dividend_values.value)\n",
    "        \n",
    "    if text_input_max_dividend_values.value != \"\":\n",
    "        max_dividend_range_selected = float(text_input_max_dividend_values.value)\n",
    "\n",
    "    \n",
    "    # Filter stocks by fundamental values input by user\n",
    "    fundamental_stocks_dataframe = filter_stocks_by_fundamentals((min_pe_range_selected, max_pe_range_selected), \n",
    "                                                                 (min_eps_range_selected, max_eps_range_selected), \n",
    "                                                                 (min_dividend_range_selected, max_dividend_range_selected))\n",
    "    \n",
    "    # Refrech the fundamental_stock_dataframe_viewer\n",
    "    fundamental_stocks_dataframe_viewer.value = fundamental_stocks_dataframe\n",
    "    \n",
    "    if fundamental_stocks_dataframe.index.values is not None:\n",
    "        # Get fundamental portfolio\n",
    "        fundamental_stock_portfolio = pd.DataFrame(get_fundamental_portfolio(fundamental_stocks_dataframe.index.values,\n",
    "                                                               datepicker_date_start_date_selector.value,\n",
    "                                                               datepicker_date_end_date_selector.value)).rename(columns = {0 : 'close'})\n",
    "\n",
    "        # Generate updated plot\n",
    "        updated_plot = fundamental_stock_portfolio.hvplot(x='time',\n",
    "                                                          y='close',\n",
    "                                                          title='Fundamental Portfolio',\n",
    "                                                          ylabel='Portfolio Returns, %',\n",
    "                                                          height=700,\n",
    "                                                         legend='right')\n",
    "\n",
    "\n",
    "        fundamental_technical_portfolio_plot_panel.object = updated_plot\n",
    "    else:\n",
    "        pass\n",
    "    \n",
    "    \n",
    "## Refresh filtered stock results button\n",
    "btn_update_fundamental_stocks_dataframe_viewer.on_click(update_fundamental_stocks_dataframe_viewer)\n"
   ]
  },
  {
   "cell_type": "code",
   "execution_count": 22,
   "id": "5ba6c635",
   "metadata": {
    "tags": []
   },
   "outputs": [],
   "source": [
    "# Reset filtered stock results and dtaframe display\n",
    "btn_reset_fundamental_stocks_dataframe_viewer = pn.widgets.Button(name='Reset', button_type='primary')\n",
    "\n",
    "def reset_fundamental_stocks_dataframe_viewer(event):\n",
    "    \n",
    "    # reset TextInput fields\n",
    "    text_input_min_pe_values.value = str(min_pe_value)\n",
    "    text_input_max_pe_values.value = str(max_pe_value)\n",
    "    text_input_min_eps_values.value = str(min_eps_value)\n",
    "    text_input_max_eps_values.value = str(max_eps_value)\n",
    "    text_input_min_dividend_values.value = str(min_dividend_value)\n",
    "    text_input_max_dividend_values.value = str(max_dividend_value)\n",
    "\n",
    "    # reset fundamental_stocks_dataframe_viewer\n",
    "    fundamental_stocks_dataframe_viewer.value =  filter_stocks_by_fundamentals((min_pe_value, max_pe_value),\n",
    "                                                                               (min_eps_value, max_eps_value),\n",
    "                                                                               (min_dividend_value, max_dividend_value)\n",
    "                                                                              )\n",
    "    \n",
    "    # Reset plot\n",
    "    # Reset fundamental portfolio\n",
    "    fundamental_stock_portfolio = pd.DataFrame({'time' : [datetime.strptime('2020-01-01', \"%Y-%m-%d\")], 'close' : [0.0]})\n",
    "    \n",
    "    # Generate updated plot\n",
    "    updated_plot = fundamental_stock_portfolio.hvplot(x='time',\n",
    "                                                       y='close',\n",
    "                                                       title='Fundamental Portfolio',\n",
    "                                                       ylabel='Portfolio Returns, %',\n",
    "                                                     height=700,\n",
    "                                                     legend='right')\n",
    "\n",
    "    \n",
    "    fundamental_technical_portfolio_plot_panel.object = updated_plot\n",
    "    \n",
    "\n",
    "## Reset fundamental_stocks_dataframe_viewer\n",
    "btn_reset_fundamental_stocks_dataframe_viewer.on_click(reset_fundamental_stocks_dataframe_viewer)"
   ]
  },
  {
   "cell_type": "markdown",
   "id": "bb6a21f6",
   "metadata": {},
   "source": [
    "#### Technical Porfolio Dashboard"
   ]
  },
  {
   "cell_type": "code",
   "execution_count": 23,
   "id": "c5dd5341",
   "metadata": {
    "tags": []
   },
   "outputs": [],
   "source": [
    "# Technical portfolio filter\n",
    "technical_filter_title = pn.panel(\"## RSI Trader - Model Portfolio Optimizer\")"
   ]
  },
  {
   "cell_type": "code",
   "execution_count": 24,
   "id": "09d739b4",
   "metadata": {
    "tags": []
   },
   "outputs": [],
   "source": [
    "# RSI filter\n",
    "## Get PE value range\n",
    "min_rsi_value = 30.0\n",
    "max_rsi_value = 70.0\n",
    "rsi_lenght = 14\n",
    "\n",
    "## TextInput - input minimum and maximum PE values\n",
    "text_input_min_rsi_values = pn.widgets.TextInput(name='Min', max_width=70, placeholder=str(min_rsi_value))\n",
    "text_input_max_rsi_values = pn.widgets.TextInput(name='Max', max_width=70, placeholder=str(max_rsi_value))\n",
    "text_input_rsi_lenght = pn.widgets.TextInput(name='RSI Lenght', max_width=70, placeholder=str(rsi_lenght))"
   ]
  },
  {
   "cell_type": "code",
   "execution_count": 25,
   "id": "801b0e40",
   "metadata": {
    "tags": []
   },
   "outputs": [],
   "source": [
    "# Declate global varaible for RSI trader portfolio\n",
    "global rsi_trader_portfolio\n",
    "\n",
    "# Apply RSI trader\n",
    "btn_apply_rsi_simualted_portfolio = pn.widgets.Button(name='Build RSI Simulated Portfolio', button_type='primary')\n",
    "\n",
    "def apply_rsi_simualted_portfolio(event):\n",
    "    \n",
    "    min_rsi_value_selected = float()\n",
    "    max_rsi_value_selected = float()\n",
    "    rsi_lenght_selected = int()\n",
    "    \n",
    "    if text_input_min_rsi_values.value is '':\n",
    "        min_rsi_value_selected = min_rsi_value\n",
    "    else:\n",
    "        min_rsi_value_selected = float(text_input_min_rsi_values.value)\n",
    "    \n",
    "    if text_input_max_rsi_values.value is '':\n",
    "        max_rsi_value_selected = max_rsi_value\n",
    "    else:\n",
    "        max_rsi_value_selected = float(text_input_max_rsi_values.value)\n",
    "        \n",
    "    if text_input_rsi_lenght.value is '':\n",
    "        rsi_lenght_selected = rsi_lenght\n",
    "    else:\n",
    "        rsi_lenght_selected = float(text_input_rsi_lenght.value)\n",
    "        \n",
    "    # Get RSI trader portfolio\n",
    "    rsi_trader_portfolio = pd.DataFrame(rsi_trader(fundamental_stocks_dataframe.index.values, \n",
    "                                      int(min_rsi_value_selected),\n",
    "                                      int(max_rsi_value_selected),\n",
    "                                      str(datepicker_date_start_date_selector.value),\n",
    "                                      str(datepicker_date_end_date_selector.value),\n",
    "                                      int(rsi_lenght_selected)\n",
    "                                     )).reset_index().rename(columns = {0 : 'close'})\n",
    "    \n",
    "    # Generate updated plot\n",
    "    updated_plot = rsi_trader_portfolio.hvplot(x='index',\n",
    "                                                y='close',\n",
    "                                                title='RSI Trader',\n",
    "                                                ylabel='Portfolio Returns, %',\n",
    "                                               legend=True)\n",
    "\n",
    "    \n",
    "    fundamental_technical_portfolio_plot_panel.object *= updated_plot\n",
    "    \n",
    "    update_select_ticker_for_technical_display()\n",
    "    \n",
    "\n",
    "## Reset fundamental_stocks_dataframe_viewer\n",
    "btn_apply_rsi_simualted_portfolio.on_click(apply_rsi_simualted_portfolio)"
   ]
  },
  {
   "cell_type": "markdown",
   "id": "52702511",
   "metadata": {
    "tags": []
   },
   "source": [
    "#### Technical Portfolio Tab"
   ]
  },
  {
   "cell_type": "code",
   "execution_count": 26,
   "id": "84b9bfd2",
   "metadata": {
    "tags": []
   },
   "outputs": [
    {
     "data": {
      "image/png": "[encoded data removed]",
      "text/plain": [
       "<Figure size 1080x720 with 5 Axes>"
      ]
     },
     "metadata": {
      "needs_background": "light"
     },
     "output_type": "display_data"
    }
   ],
   "source": [
    "# Write a method to filter on one ticker and retrieve all the information for this tickers : ohlcv - RSI - MACD+Signal\n",
    "def display_technical_chart(ticker, ohlcv, rsi, macd, start_date, end_date):\n",
    "    '''Ploting chart\n",
    "        Returns 3 charts: RSI, Price/volume and MACD\n",
    "    \n",
    "        Parameters\n",
    "        ----------\n",
    "        ticker : str() - symbol of teh ticker we select\n",
    "        ohlcv : pd.DataFrame - initial dataframe to be processed with open / high / low / close / volume\n",
    "        rsi : pd.DataFrame - dataframe to be processed with RSI\n",
    "        macd : pd.DataFrame - dataframe to be processed with MACD\n",
    "\n",
    "        start_date : str() - string with date in following format YYYY-MM-DD\n",
    "        end_date : str() - string with date in following format YYYY-MM-DD\n",
    "    \n",
    "        Returns\n",
    "        -------\n",
    "        3 charts\n",
    "    '''\n",
    "    \n",
    "    \n",
    "    ############# create a new DF filtered on one ticker ###############\n",
    "    \n",
    "    # Swap column levels for RSI_DF and MACD_DF to make sure we have the ticker in level 0\n",
    "    rsi_df= rsi.swaplevel(0,1,axis=1)\n",
    "    \n",
    "    \n",
    "    rsi_df_sliced= rsi_df.loc[start_date:end_date,ticker]\n",
    "    macd_df= macd.swaplevel(0,1,axis=1)\n",
    "    macd_df_sliced= macd_df.loc[start_date:end_date,ticker]\n",
    "    ohlcv_df_sliced=ohlcv.loc[start_date:end_date,ticker]\n",
    "    \n",
    "    # Concat the dfs\n",
    "    chart_ta_df = pd.concat([ohlcv_df_sliced, rsi_df_sliced, macd_df_sliced], axis=1, join='inner')\n",
    "\n",
    "    \n",
    "    #################### Chart ######################\n",
    "    \n",
    "    \n",
    "    # Create the figure\n",
    "    fig = plt.figure(figsize=(15,10))\n",
    "   \n",
    "    # Create the first subplot = Price\n",
    "    ax1 = plt.subplot2grid((6,4), (1,0), rowspan=4, colspan=4)\n",
    "    ax1 = chart_ta_df['close'].plot(color='b', label='Price')\n",
    "    ax1.grid(True, color='c', linestyle='--')\n",
    "    ax1.yaxis.label.set_color(\"k\")\n",
    "    ax1.tick_params(axis='y', colors='k')\n",
    "    ax1.tick_params(axis='x', colors='k')\n",
    "    ax1.set_facecolor('w')\n",
    "    plt.ylabel('Stock price and Volume')\n",
    "   \n",
    "    # Add the volume within the same subplot\n",
    "    # Retrieve volumes into a list\n",
    "    volume = chart_ta_df['volume']\n",
    "    # Share the same x-axis\n",
    "    ax1v= ax1.twinx()\n",
    "    ax1v.fill_between(chart_ta_df.index, volume,0, color='darkturquoise', alpha=0.5, label='Volume')\n",
    "    # To avoid having a second grid overlaping the first one\n",
    "    ax1v.grid(False)\n",
    "    # Set the limit for the second y-axis and make it look smaller by multiplying the max volume\n",
    "    ax1v.set_ylim(0, 3*volume.max())\n",
    "    ax1v.axes.yaxis.set_ticklabels([])\n",
    "    ax1v.tick_params(axis='y', colors='k')\n",
    "    ax1v.yaxis.label.set_color(\"k\")\n",
    "    ax1v.spines['bottom'].set_color('midnightblue')\n",
    "    ax1v.spines['top'].set_color('midnightblue')\n",
    "    ax1v.spines['left'].set_color('midnightblue')\n",
    "    ax1v.spines['right'].set_color('midnightblue')\n",
    "    ax1v.legend()\n",
    "\n",
    "    # Create a second subplot for the RSI\n",
    "    ax0 = plt.subplot2grid((6,4), (0,0), sharex=ax1, rowspan=1, colspan=4)      \n",
    "    ax0 = chart_ta_df['RSI'].plot(color='r')\n",
    "    ax0.axhline(70, color='m')\n",
    "    ax0.axhline(30, color='m')\n",
    "    ax0.set_yticks([30,70])\n",
    "    ax0.yaxis.label.set_color(\"w\")\n",
    "    ax0.tick_params(axis='y', colors='k')\n",
    "    ax0.tick_params(axis='x', colors='k')\n",
    "    ax0.grid(True, color='c', linestyle='--')\n",
    "    ax0.set_facecolor('w')\n",
    "    ax0.spines['bottom'].set_color('midnightblue')\n",
    "    ax0.spines['top'].set_color('midnightblue')\n",
    "    ax0.spines['left'].set_color('midnightblue')\n",
    "    ax0.spines['right'].set_color('midnightblue')\n",
    "    plt.ylabel('RSI')\n",
    "\n",
    "    # Create a third subplot for the MACD\n",
    "    ax2= plt.subplot2grid((6,4), (5,0), sharex=ax1, rowspan=1, colspan=4)\n",
    "    ax2= chart_ta_df['MACD'].plot(color='limegreen', linewidth=2, label='MACD')\n",
    "    ax2.tick_params(axis='x', colors='k')\n",
    "    ax2.tick_params(axis='y', colors='k')\n",
    "    ax2.grid(True, color='c', linestyle='--')\n",
    "    ax2.set_facecolor('w')\n",
    "    ax2.spines['bottom'].set_color('midnightblue')\n",
    "    ax2.spines['top'].set_color('midnightblue')\n",
    "    ax2.spines['left'].set_color('midnightblue')\n",
    "    ax2.spines['right'].set_color('midnightblue')\n",
    "    plt.ylabel('MACD', color='k')\n",
    "   \n",
    "    # Add the Signal line to the same subplot\n",
    "    # share the same x-axis\n",
    "    ax_signal= ax2.twinx()\n",
    "    ax_signal= chart_ta_df['MACD_Signal'].plot(color='orange',linestyle='--', label='Signal')\n",
    "    ax_signal.spines['bottom'].set_color('midnightblue')\n",
    "    ax_signal.spines['top'].set_color('midnightblue')\n",
    "    ax_signal.spines['left'].set_color('midnightblue')\n",
    "    ax_signal.spines['right'].set_color('midnightblue')\n",
    "    plt.legend()\n",
    "\n",
    "    return fig\n",
    "\n",
    "\n",
    "\n",
    "\n",
    "# Display chart at load\n",
    "stock_prices_for_technical_chart = stock_prices_from_api([\"TSLA\"],\n",
    "                                                        \"2020-01-01\",\n",
    "                                                        \"2021-01-01\")\n",
    "\n",
    "rsi_df = rsi_table(stock_prices_for_technical_chart, 14)\n",
    "\n",
    "macd_df = macd_table(stock_prices_for_technical_chart, 12, 26, 9)\n",
    "\n",
    "technical_chart_panel = pn.pane.Matplotlib(display_technical_chart('TSLA', \n",
    "                                                         stock_pices_for_technical_chart, \n",
    "                                                         rsi_df, \n",
    "                                                         macd_df,\n",
    "                                                         \"2020-01-01\",\n",
    "                                                         \"2021-01-01\"))\n",
    "\n",
    "\n",
    "\n",
    "    \n",
    "# Apply the chart generator method\n",
    "btn_update_technical_indicators_charton_click = pn.widgets.Button(name='View Technical Indicators', button_type='primary')\n",
    "\n",
    "def apply_update_technical_indicators_chart(event):\n",
    "    \n",
    "    _stock_prices_for_technical_chart = stock_prices_from_api([str(select_ticker_for_technical_display.value)],\n",
    "                                                        str(datepicker_date_start_date_selector.value),\n",
    "                                                        str(datepicker_date_end_date_selector.value))\n",
    "\n",
    "    rsi_df = rsi_table(_stock_prices_for_technical_chart, 14)\n",
    "\n",
    "    macd_df = macd_table(_stock_prices_for_technical_chart, 12, 26, 9)\n",
    "    \n",
    "    updated_chart = display_technical_chart(str(select_ticker_for_technical_display.value), \n",
    "                                            _stock_prices_for_technical_chart, \n",
    "                                            rsi_df, \n",
    "                                            macd_df,\n",
    "                                            str(datepicker_date_start_date_selector.value),\n",
    "                                            str(datepicker_date_end_date_selector.value))\n",
    "    \n",
    "    technical_chart_panel.object = updated_chart\n",
    "    \n",
    "    \n",
    "# Reset chart\n",
    "btn_update_technical_indicators_charton_click.on_click(apply_update_technical_indicators_chart)\n",
    "\n",
    "# Stock dropdown menu\n",
    "select_ticker_for_technical_display = pn.widgets.Select(name='Ticker', options=list(sp500_tickers[\"Symbol\"]))\n",
    "\n",
    "# Update select_ticker_for_technical\n",
    "def update_select_ticker_for_technical_display():\n",
    "    select_ticker_for_technical_display.options = list(fundamental_stocks_dataframe.index.values)"
   ]
  },
  {
   "cell_type": "markdown",
   "id": "4103cbb3",
   "metadata": {
    "tags": []
   },
   "source": [
    "#### Filter Tab Builder"
   ]
  },
  {
   "cell_type": "code",
   "execution_count": 27,
   "id": "5b1bd260",
   "metadata": {
    "tags": []
   },
   "outputs": [],
   "source": [
    "# Stock filter tab\n",
    "filter_tab = pn.Row(\n",
    "    pn.Column(\n",
    "        \"## Model portfolio builder\",\n",
    "        # Date range selector\n",
    "        pn.Row(\"#### Select date range for model portfolio:\", datepicker_date_start_date_selector, datepicker_date_end_date_selector),\n",
    "        pn.layout.Divider(margin=(-0, 0, 0, 0)),\n",
    "\n",
    "        \n",
    "        # Fundamental analysis filter area\n",
    "        fundamental_filter_title,\n",
    "        pn.Row(\n",
    "            # Criteria selection via textbox entry\n",
    "            pn.Column(\n",
    "                pn.panel(\"#### Selection criteria\"),\n",
    "                \n",
    "                # Gridbox with selection criteria text fields and descriptors\n",
    "                pn.GridBox(\n",
    "                    pn.panel(\"P/E - price / earnings\", style={'font-weight' : 'bold'}),\n",
    "                    pn.Row(text_input_min_pe_values, text_input_max_pe_values, width_policy='max'),\n",
    "\n",
    "                    pn.panel(\"EPS - earnings per share\", style={'font-weight' : 'bold'}),\n",
    "                    pn.Row(text_input_min_eps_values, text_input_max_eps_values, width_policy='max'),\n",
    "\n",
    "                    pn.panel(\"Dividend per share\", style={'font-weight' : 'bold'}),\n",
    "                    pn.Row(text_input_min_dividend_values, text_input_max_dividend_values, width_policy='max'),\n",
    "                ncols = 2,\n",
    "                width_policy='fit'\n",
    "            ),\n",
    "            # Button to excecute filter and reset filter functions\n",
    "            pn.panel(btn_update_fundamental_stocks_dataframe_viewer),\n",
    "            pn.panel(btn_reset_fundamental_stocks_dataframe_viewer),\n",
    "                width_policy='fit'),\n",
    "            \n",
    "            # Display of selected stocks\n",
    "            pn.Column(pn.panel(f\"#### Filtered Stocks\"), \n",
    "                  pn.Row(fundamental_stocks_dataframe_viewer,height = 100, sizing_mode='stretch_both'),\n",
    "                      width_policy='fit'),\n",
    "            width_policy='fit'),\n",
    "          pn.layout.Divider(margin=(-0, 0, 0, 0)),\n",
    "        \n",
    "        \n",
    "        \n",
    "        # Technical analysis filter area\n",
    "        pn.Column(\n",
    "            technical_filter_title,\n",
    "            pn.Row(\n",
    "                pn.GridBox(pn.panel(\"RSI Trader - Technical portfolio simulator\", style={'font-weight' : 'bold'}),\n",
    "                       pn.panel(\"RSI (Relative Strenght Index) indicates when a security is overbought or oversold\"),\n",
    "                       pn.Row(text_input_min_rsi_values, text_input_max_rsi_values, text_input_rsi_lenght)\n",
    "                      ),\n",
    "                btn_apply_rsi_simualted_portfolio\n",
    "        )\n",
    "        )\n",
    "    \n",
    "    ),\n",
    "    # Plot portfolio return\n",
    "    pn.Column(fundamental_technical_portfolio_plot_panel)\n",
    ")"
   ]
  },
  {
   "cell_type": "code",
   "execution_count": 28,
   "id": "14f77094",
   "metadata": {
    "tags": []
   },
   "outputs": [],
   "source": [
    "# Technical analysis tab\n",
    "technical_tab = pn.Row(\n",
    "    pn.Column(\n",
    "        select_ticker_for_technical_display,\n",
    "        btn_update_technical_indicators_charton_click\n",
    "    ),\n",
    "    pn.Column(pn.Spacer(background=background_color, sizing_mode='stretch_both')),\n",
    "    pn.Column(\"## Price, Volume, RSI and MACD\",\n",
    "        technical_chart_panel)\n",
    ")"
   ]
  },
  {
   "cell_type": "markdown",
   "id": "4d48bac1",
   "metadata": {},
   "source": [
    "#### Dashboard Tabs"
   ]
  },
  {
   "cell_type": "code",
   "execution_count": 29,
   "id": "81cbad53",
   "metadata": {
    "tags": []
   },
   "outputs": [
    {
     "name": "stdout",
     "output_type": "stream",
     "text": [
      "Launching server at http://localhost:54449\n"
     ]
    },
    {
     "data": {
      "text/plain": [
       "<bokeh.server.server.Server at 0x250cb52f6c8>"
      ]
     },
     "execution_count": 29,
     "metadata": {},
     "output_type": "execute_result"
    }
   ],
   "source": [
    "powerfolio_dash = pn.Column(\n",
    "    pn.panel(title_panel, width=600),\n",
    "    pn.Tabs(\n",
    "        (\"Welcome to Powerfolio!\", welcome_to_powerfolio),\n",
    "        (\"Fundamental/Technical Portfolio Builder\", filter_tab),\n",
    "        (\"Technical Analysis\", technical_tab),\n",
    "        (\"Efficient Frontier\", \"Sharpe Ratio\"),\n",
    "        (\"Hierarchical Clustering\", \"Hierarchical Clustering\")\n",
    "    )\n",
    ")\n",
    "\n",
    "powerfolio_dash.show()"
   ]
  }
 ],
 "metadata": {
  "kernelspec": {
   "display_name": "Python 3",
   "language": "python",
   "name": "python3"
  },
  "language_info": {
   "codemirror_mode": {
    "name": "ipython",
    "version": 3
   },
   "file_extension": ".py",
   "mimetype": "text/x-python",
   "name": "python",
   "nbconvert_exporter": "python",
   "pygments_lexer": "ipython3",
   "version": "3.7.10"
  }
 },
 "nbformat": 4,
 "nbformat_minor": 5
}
