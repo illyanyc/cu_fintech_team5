{
 "cells": [
  {
   "cell_type": "markdown",
   "id": "spatial-explanation",
   "metadata": {},
   "source": [
    "# Technical Portfolio Analyzer"
   ]
  },
  {
   "cell_type": "markdown",
   "id": "infectious-worthy",
   "metadata": {},
   "source": [
    "This Jupyter Notebook will outline the exploration, developement and clean-up of the appliation code\n",
    "\n",
    "### Table of Contents\n",
    "- Data connectors\n",
    "- Data query and clean-up\n",
    "- Analytical methods\n",
    "    - Technical\n",
    "    - Fundamental\n",
    "    - Traditional\n",
    "    \n",
    "---\n",
    "\n",
    "- Visualization\n",
    "- Dashboard (GUI)\n",
    "    - GUI\n",
    "    - Data filtration methods"
   ]
  },
  {
   "cell_type": "markdown",
   "id": "sublime-dealing",
   "metadata": {},
   "source": [
    "### Dependencies"
   ]
  },
  {
   "cell_type": "code",
   "execution_count": 1,
   "id": "psychological-capacity",
   "metadata": {},
   "outputs": [],
   "source": [
    "# Data analytics\n",
    "import pandas as pd\n",
    "import numpy as np\n",
    "import panel as pn\n",
    "# import bs4 as bs\n",
    "\n",
    "# Visualization\n",
    "# pn.extension('plotly')\n",
    "# import plotly.express as px\n",
    "# import hvplot.pandas\n",
    "import matplotlib.pyplot as plt\n",
    "\n",
    "# System\n",
    "import os\n",
    "import time\n",
    "from pathlib import Path\n",
    "from dotenv import load_dotenv\n",
    "import requests\n",
    "\n",
    "# Finance\n",
    "import alpaca_trade_api as tradeapi\n",
    "import quandl as ql\n",
    "import finnhub\n",
    "\n",
    "import warnings\n",
    "warnings.filterwarnings('ignore')"
   ]
  },
  {
   "cell_type": "markdown",
   "id": "fitted-south",
   "metadata": {},
   "source": [
    "## Data Connections\n",
    "- Static Data Connections\n",
    "- Dynamic Data Connections"
   ]
  },
  {
   "cell_type": "markdown",
   "id": "liked-bangladesh",
   "metadata": {},
   "source": [
    "### Static Data Connections"
   ]
  },
  {
   "cell_type": "markdown",
   "id": "answering-aside",
   "metadata": {},
   "source": [
    "#### Stock Ticker Lists"
   ]
  },
  {
   "cell_type": "code",
   "execution_count": 2,
   "id": "korean-exchange",
   "metadata": {},
   "outputs": [],
   "source": [
    "# Get tickers within S&P500 index - test dataset\n",
    "sp500_tickers_path = Path('resources/sp500_tickers.csv')\n",
    "sp500_tickers = pd.read_csv(sp500_tickers_path)\n",
    "\n",
    "sp500_tickers_test_path = Path('resources/sp500_tickers_test.csv')\n",
    "sp500_tickers_test = pd.read_csv(sp500_tickers_test_path)"
   ]
  },
  {
   "cell_type": "code",
   "execution_count": 3,
   "id": "noticed-excess",
   "metadata": {},
   "outputs": [],
   "source": [
    "# Get fundamental data from csv\n",
    "stock_fundamentals_data_path = Path(\"resources/fundamental_data.csv\")\n",
    "stock_fundamentals_df = pd.read_csv(stock_fundamentals_data_path)"
   ]
  },
  {
   "cell_type": "markdown",
   "id": "assisted-drinking",
   "metadata": {},
   "source": [
    "### Dynamic Data Connections"
   ]
  },
  {
   "cell_type": "markdown",
   "id": "stretch-filter",
   "metadata": {},
   "source": [
    "#### Stock Price Data"
   ]
  },
  {
   "cell_type": "code",
   "execution_count": 4,
   "id": "pleased-passenger",
   "metadata": {},
   "outputs": [],
   "source": [
    "# Alpaca API connector\n",
    "load_dotenv(\"../resources/api_keys.env\")\n",
    "\n",
    "# Set Alpaca API key and secret\n",
    "alpaca_api_key = os.getenv(\"ALPACA_API_KEY\")\n",
    "alpaca_secret_key = os.getenv(\"ALPACA_SECRET_KEY\")\n",
    "\n",
    "# Create the Alpaca API object\n",
    "api = tradeapi.REST(\n",
    "alpaca_api_key,\n",
    "alpaca_secret_key,\n",
    "api_version = \"v2\"\n",
    ")"
   ]
  },
  {
   "cell_type": "markdown",
   "id": "alleged-tuner",
   "metadata": {},
   "source": [
    "#### Fundamental Stock Data"
   ]
  },
  {
   "cell_type": "code",
   "execution_count": 5,
   "id": "filled-access",
   "metadata": {},
   "outputs": [],
   "source": [
    "# FinnHub API connector\n",
    "load_dotenv(\"../resources/api_keys.env\")\n",
    "\n",
    "# Set FinnBug API key\n",
    "finnhub_api_key = os.getenv(\"FINNHUB_API_KEY\")\n",
    "\n",
    "# Create FinnHub API object\n",
    "finnhub_client = finnhub.Client(api_key=finnhub_api_key)\n",
    "\n",
    "# Method to obtain json data from Polygon API\n",
    "def finnhub_data(ticker):\n",
    "    \n",
    "    data = finnhub_client.company_basic_financials(ticker, \"\")\n",
    "    data_df = pd.DataFrame(data)\n",
    "    time.sleep(1)\n",
    "    \n",
    "    return data_df"
   ]
  },
  {
   "cell_type": "markdown",
   "id": "professional-thompson",
   "metadata": {},
   "source": [
    "#### Bond Data"
   ]
  },
  {
   "cell_type": "code",
   "execution_count": 6,
   "id": "polyphonic-yacht",
   "metadata": {},
   "outputs": [],
   "source": [
    "# Treasury bonds\n",
    "def treasury_data():\n",
    "    return ql.get(\"USTREASURY/YIELD\")"
   ]
  },
  {
   "cell_type": "markdown",
   "id": "greenhouse-community",
   "metadata": {},
   "source": [
    "#### Crypto Data"
   ]
  },
  {
   "cell_type": "code",
   "execution_count": 7,
   "id": "characteristic-methodology",
   "metadata": {},
   "outputs": [],
   "source": [
    "# Crypto connector URLs\n",
    "btc_url = \"https://api.alternative.me/v2/ticker/Bitcoin/?convert=USD\"\n",
    "eth_url = \"https://api.alternative.me/v2/ticker/Ethereum/?convert=USD\"\n",
    "\n",
    "# Build out the crypto connector here"
   ]
  },
  {
   "cell_type": "markdown",
   "id": "maritime-termination",
   "metadata": {},
   "source": [
    "## Data Parsing"
   ]
  },
  {
   "cell_type": "markdown",
   "id": "searching-lloyd",
   "metadata": {},
   "source": [
    "### Stock Data"
   ]
  },
  {
   "cell_type": "code",
   "execution_count": 8,
   "id": "local-scholarship",
   "metadata": {},
   "outputs": [],
   "source": [
    "# Get prices for tickers withing a given index or sector\n",
    "def stock_prices(tickers_df, start_date, end_date):\n",
    "    '''Returns pd.DataFrame with prices for the given tickers\n",
    "    \n",
    "    ...\n",
    "    \n",
    "    Parameters\n",
    "    ----------\n",
    "    tickers_df : pd.DataFrame - contains tickers for given index or sector under \n",
    "        the \"Symbol\" column which is the DataFrame key\n",
    "    start_date : str() - string with date in following format YYYY-MM-DD\n",
    "    end_date: str() - string with date in following format YYYY-MM-DD \n",
    "    \n",
    "    \n",
    "    Returns\n",
    "    -------\n",
    "    result_df : pd.DataFrame with securities price data\n",
    "    '''\n",
    "    \n",
    "    # Get list of tickers from the tickers_df DataFrame\n",
    "    tickers = list(tickers_df[\"Symbol\"])\n",
    "    \n",
    "    # Parse start and end dates\n",
    "    start_date = pd.Timestamp(start_date, tz=\"America/New_York\").isoformat()\n",
    "    end_date = pd.Timestamp(end_date, tz=\"America/New_York\").isoformat()\n",
    "    \n",
    "    # Connect to Alpaca API and get data\n",
    "    \"\"\"Condition handling: \n",
    "        a. Alpaca API 422 Client Error if more than 100 tickers are passed - COMPLETE\n",
    "        b. Alpaca API data max row limit of 1000 - PENDING\"\"\"\n",
    "    \n",
    "    \n",
    "    # a. Alpaca API condition handling, sending 100 tickers at a time\n",
    "    # Declate a pd.DataFrame\n",
    "    result_df = pd.DataFrame()\n",
    "    tickers_n = 50\n",
    "    \n",
    "    for i in range(0, len(tickers), tickers_n):\n",
    "        # Slice the ticker list into lists of 50 tickers\n",
    "        sliced_tickers = tickers[i:i + tickers_n] \n",
    "        \n",
    "        temp_df = api.get_barset(\n",
    "        sliced_tickers,\n",
    "        timeframe = \"1D\",\n",
    "        start = start_date,\n",
    "        end = end_date,\n",
    "        limit = 1000).df\n",
    "\n",
    "        # Append temporary dataframe to result_df\n",
    "        result_df = pd.concat([result_df, temp_df], axis = \"columns\", join = \"outer\")\n",
    "        time.sleep(0.1)\n",
    "        \n",
    "    return result_df\n",
    "\n",
    "# start_date = '2020-01-01'\n",
    "# end_date = '2020-02-28'\n",
    "# tickers_df = sp500_tickers\n",
    "# stocks = stock_prices(tickers_df, start_date, end_date)\n",
    "# stocks.to_csv(\"resources/price_data.csv\")\n",
    "# stocks.head()\n",
    "\n",
    "\n",
    "\n",
    "# Get stock fundamental data from FinnHub\n",
    "def generate_stock_fundamentals(tickers_df):\n",
    "    '''Returns pd.DataFrame with fundamentals of tickers within tickers_df\n",
    "    \n",
    "    ...\n",
    "    Parameters\n",
    "    ----------\n",
    "    tickers_df : pd.DataFrame - contains tickers for given index or sector under \n",
    "        the \"Symbol\" column which is the DataFrame key\n",
    "        \n",
    "    Returns\n",
    "    -------\n",
    "    result_df : pd.DataFrame - securities fundamental data\n",
    "    '''\n",
    "    \n",
    "    result_df = pd.DataFrame()\n",
    "    \n",
    "    for ticker in tickers_df['Symbol']:\n",
    "        fundamental_data = finnhub_data(ticker)\n",
    "        result_df = pd.concat([result_df, fundamental_data], axis='rows', join=\"outer\")\n",
    "        \n",
    "    # Parse the dataframe\n",
    "    result_df = result_df.reset_index().set_index('symbol')\n",
    "    result_df = result_df.drop('metricType', 1)\n",
    "    result_df.columns = ['metric_type', 'metric', 'series']\n",
    "    \n",
    "    return result_df\n",
    "\n",
    "# fundamental_data = stock_fundamentals(sp500_tickers_test)\n",
    "# fundamental_data.head()\n",
    "        \n",
    "\n",
    "    \n",
    "# Refresh stock fundamental data csv\n",
    "def refresh_fundamentals_csv(tickers_df):\n",
    "    '''Returns pd.DataFrame with fundamentals of tickers within tickers_df\n",
    "    and/or calls to generate a refreashed dataset\n",
    "    \n",
    "    ...\n",
    "    Parameters\n",
    "    ----------\n",
    "    tickers_df : pd.DataFrame - contains tickers for given index or sector under \n",
    "        the \"Symbol\" column which is the DataFrame key\n",
    "    '''\n",
    "    \n",
    "    result_df = stock_fundamentals(tickers_df)\n",
    "    result_df.to_csv(\"resources/fundamental_data.csv\")\n",
    "    \n",
    "# refresh_fundamentals_csv(sp500_tickers)"
   ]
  },
  {
   "cell_type": "code",
   "execution_count": null,
   "id": "global-reliance",
   "metadata": {},
   "outputs": [],
   "source": []
  },
  {
   "cell_type": "markdown",
   "id": "confused-celebrity",
   "metadata": {},
   "source": []
  },
  {
   "cell_type": "markdown",
   "id": "serial-convert",
   "metadata": {},
   "source": [
    "## Computational Methods"
   ]
  },
  {
   "cell_type": "markdown",
   "id": "disciplinary-firewall",
   "metadata": {},
   "source": [
    "### Technical"
   ]
  },
  {
   "cell_type": "code",
   "execution_count": 9,
   "id": "buried-avatar",
   "metadata": {},
   "outputs": [],
   "source": [
    "# please start with RSI and MACD\n",
    "# your method must take entire dataframe and add a RSI or MACD column to it\n",
    "# please keep in mind that the dataframe will contain multiple tickers\n",
    "# follow specs for method writing outlined below, feel free to expand and improve\n",
    "# document your method with docstring\n",
    "# document theory for your method in readme (see the README.md for example)\n",
    "\n",
    "\n",
    "def rsi(df, days):\n",
    "    '''Returns a pd.DataFrame with RSI column appended\n",
    "    \n",
    "    ...\n",
    "    \n",
    "    Parameters\n",
    "    ----------\n",
    "    df : pd.DataFrame - dataframe to be processed\n",
    "    days : int() - numbers of days for RSI calcualtion\n",
    "    \n",
    "    Returns\n",
    "    -------\n",
    "    result_df : pd.DataFrame - dataframe with RSI column appended, calcualted daily for \n",
    "        timeperiod specified by days\n",
    "    '''\n",
    "    \n",
    "    result_df = pd.DataFrame()\n",
    "    \n",
    "    # Your code\n",
    "    \n",
    "    return result_df\n",
    "\n",
    "def macd(df, short_ema, long_ema):\n",
    "    '''Description...\n",
    "    \n",
    "    ...\n",
    "    \n",
    "    Parameters\n",
    "    ----------\n",
    "    df : pd.DataFrame - dataframe to be processed\n",
    "    short_ema : int() - short-term EMA for MACD calculation\n",
    "    long_ema : int() - long-term EMA for MACD calculation\n",
    "    \n",
    "    Returns\n",
    "    -------\n",
    "    result_df : pd.DataFrame - dataframe with MACD column appended, calcualted daily for \n",
    "        timeperiod specified by days\n",
    "    '''\n",
    "    pass\n",
    "\n",
    "# Method test"
   ]
  },
  {
   "cell_type": "markdown",
   "id": "advance-traveler",
   "metadata": {},
   "source": [
    "### Fundamental"
   ]
  },
  {
   "cell_type": "code",
   "execution_count": 66,
   "id": "rubber-bread",
   "metadata": {},
   "outputs": [
    {
     "name": "stdout",
     "output_type": "stream",
     "text": [
      "        pe_ratio\n",
      "symbol          \n",
      "BIIB    10.50522\n",
      "INTC    10.60050\n",
      "KR      10.66000\n",
      "MTB     10.88400\n",
      "PGR     10.67319\n"
     ]
    }
   ],
   "source": [
    "# Please start with PE, EPS, and Dividned Info.\n",
    "# your method must take entire dataframe and add a PE, EPS, and Dividned Info columns to it\n",
    "# please keep in mind that the dataframe will contain multiple tickers\n",
    "# follow specs for method writing outlined below, feel free to expand and improve\n",
    "# document your method with docstring\n",
    "# document theory for your method in readme (see the README.md for example)\n",
    "\n",
    "# Fundamental data filter\n",
    "def fundamental_data_query(tickers_df, fundamental_indicator_key, lower_bound = -1000000, upper_bound = 1000000):\n",
    "    '''Returns a pd.DataFrame of fundamental data filtered by user input range\n",
    "    \n",
    "    ...\n",
    "    \n",
    "    Parameters\n",
    "    ----------\n",
    "    tickers_df : pd.DataFrame - dataframe to be processed, contains ticker and fundamental data\n",
    "    fundamental_indicator_key : str() - keyword for fundamental indicator requested\n",
    "    \n",
    "        Fundamental indicator keys ->\n",
    "        \n",
    "        P/E Ratio : [pe_ratio]\n",
    "        EPS (Earnings per Share) : [eps]\n",
    "        Annual Dividend : [dividend]\n",
    "        Beta (vs. S&P 500) : [beta]\n",
    "        EBIDT : [ebidt]\n",
    "        Quick Ratio : [quick_ratio]\n",
    "        3 Year Revenue Growth : [rev_growth]\n",
    "        Free Cash Flow : [cash_flow]\n",
    "    \n",
    "    lower_bound : int() or float() - lower bound for fundamental value filter, default = -1000000\n",
    "    upper_bound : int() or float() - upper bound for fundamental value filter, default = 1000000\n",
    "     \n",
    "     \n",
    "     \n",
    "    Returns\n",
    "    -------\n",
    "    result_df : pd.DataFrame - dataframe with ticker and filtered fundamental data\n",
    "    '''\n",
    "\n",
    "    fund_indicators_dict = {\n",
    "        'pe_ratio' : 'peNormalizedAnnual',\n",
    "        'eps' : 'epsNormalizedAnnual',\n",
    "        'dividend' : 'dividendsPerShareTTM',\n",
    "        'beta' : 'beta',\n",
    "        'ebidt' : 'ebitdPerShareTTM',\n",
    "        'quick_ratio' : 'quickRatioAnnual',\n",
    "        'rev_growth' : 'revenueGrowth3Y',\n",
    "        'free_cash_flow' : 'freeCashFlowAnnual'   \n",
    "    }\n",
    "    \n",
    "    # Declate tickers list\n",
    "    tickers_list = tickers_df['Symbol']\n",
    "    \n",
    "    # Declare fundamental data df and filter by ticker df\n",
    "    data_df = stock_fundamentals_df[stock_fundamentals_df.symbol.isin(tickers_list)]\n",
    "    data_df = data_df.set_index(['symbol'])\n",
    "    \n",
    "    # Extract requested fundamental data\n",
    "    result_df = data_df[data_df['metric_type'] == fund_indicators_dict[fundamental_indicator_key]]\n",
    "    \n",
    "    # Convert all df values to numeric\n",
    "    result_df['metric'] = result_df['metric'].apply(pd.to_numeric)\n",
    "    \n",
    "    # Filter fundamental data by user input range (lower_bound and upper_bound)\n",
    "    result_df = result_df[(result_df['metric'] > lower_bound) & (result_df['metric'] < upper_bound)]\n",
    "    \n",
    "    # Clean up result_df\n",
    "    result_df = result_df.drop(columns = ['metric_type', 'series'])\n",
    "    result_df = result_df.rename(columns = {'symbol' : 'ticker', \n",
    "                                'metric' : fundamental_indicator_key})\n",
    "    \n",
    "    \n",
    "    return result_df\n",
    "\n",
    "\n",
    "# Method test\n",
    "# print(fundamental_data_query(sp500_tickers, 'pe_ratio', 10, 11))\n",
    "# help(fundamental_data_query)"
   ]
  },
  {
   "cell_type": "markdown",
   "id": "incorrect-border",
   "metadata": {},
   "source": [
    "### Traditional"
   ]
  },
  {
   "cell_type": "code",
   "execution_count": null,
   "id": "beginning-alabama",
   "metadata": {},
   "outputs": [],
   "source": [
    "# Please start with calculating the Sharpe Ratio Calculation\n",
    "# your method must take entire dataframe and return a dataframe with ticker and sharpe ratio for the given time\n",
    "# please keep in mind that the dataframe will contain multiple tickers\n",
    "# follow specs for method writing outlined below, feel free to expand and improve\n",
    "# document your method with docstring\n",
    "# document theory for your method in readme (see the README.md for example)\n",
    "\n",
    "# Method test"
   ]
  },
  {
   "cell_type": "markdown",
   "id": "differential-warner",
   "metadata": {},
   "source": [
    "## Visualization"
   ]
  },
  {
   "cell_type": "code",
   "execution_count": null,
   "id": "everyday-joining",
   "metadata": {},
   "outputs": [],
   "source": [
    "# your code here"
   ]
  },
  {
   "cell_type": "markdown",
   "id": "handed-indonesian",
   "metadata": {},
   "source": [
    "## Dashboard"
   ]
  },
  {
   "cell_type": "code",
   "execution_count": null,
   "id": "acoustic-niagara",
   "metadata": {},
   "outputs": [],
   "source": [
    "# your code here"
   ]
  },
  {
   "cell_type": "code",
   "execution_count": null,
   "id": "hidden-carry",
   "metadata": {},
   "outputs": [],
   "source": []
  },
  {
   "cell_type": "code",
   "execution_count": null,
   "id": "communist-shanghai",
   "metadata": {},
   "outputs": [],
   "source": []
  },
  {
   "cell_type": "code",
   "execution_count": null,
   "id": "beginning-police",
   "metadata": {},
   "outputs": [],
   "source": []
  }
 ],
 "metadata": {
  "kernelspec": {
   "display_name": "Python 3",
   "language": "python",
   "name": "python3"
  },
  "language_info": {
   "codemirror_mode": {
    "name": "ipython",
    "version": 3
   },
   "file_extension": ".py",
   "mimetype": "text/x-python",
   "name": "python",
   "nbconvert_exporter": "python",
   "pygments_lexer": "ipython3",
   "version": "3.7.10"
  }
 },
 "nbformat": 4,
 "nbformat_minor": 5
}
