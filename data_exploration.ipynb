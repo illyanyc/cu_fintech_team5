{
 "cells": [
  {
   "cell_type": "markdown",
   "id": "transsexual-projector",
   "metadata": {},
   "source": [
    "# Technical Portfolio Analyzer"
   ]
  },
  {
   "cell_type": "markdown",
   "id": "cognitive-locator",
   "metadata": {},
   "source": [
    "This Jupyter Notebook will outline the exploration, developement and clean-up of the appliation code\n",
    "\n",
    "### Table of Contents\n",
    "- Data connectors\n",
    "- Data query and clean-up\n",
    "- Analytical methods\n",
    "    - Technical\n",
    "    - Fundamental\n",
    "    - Traditional\n",
    "    \n",
    "---\n",
    "\n",
    "- Visualization\n",
    "- Dashboard (GUI)\n",
    "    - GUI\n",
    "    - Data filtration methods"
   ]
  },
  {
   "cell_type": "markdown",
   "id": "quarterly-stand",
   "metadata": {},
   "source": [
    "### Dependencies"
   ]
  },
  {
   "cell_type": "code",
   "execution_count": 51,
   "id": "productive-remark",
   "metadata": {},
   "outputs": [],
   "source": [
    "# Data analytics\n",
    "import pandas as pd\n",
    "import numpy as np\n",
    "import panel as pn\n",
    "# import bs4 as bs\n",
    "\n",
    "# Visualization\n",
    "# pn.extension('plotly')\n",
    "# import plotly.express as px\n",
    "# import hvplot.pandas\n",
    "import matplotlib.pyplot as plt\n",
    "\n",
    "# System\n",
    "import os\n",
    "import time\n",
    "from pathlib import Path\n",
    "from dotenv import load_dotenv\n",
    "import requests\n",
    "\n",
    "# Finance\n",
    "import alpaca_trade_api as tradeapi\n",
    "import quandl as ql\n",
    "import finnhub\n",
    "\n",
    "import warnings\n",
    "warnings.filterwarnings('ignore')"
   ]
  },
  {
   "cell_type": "markdown",
   "id": "rocky-reviewer",
   "metadata": {},
   "source": [
    "## Data Connections\n",
    "- Static Data Connections\n",
    "- Dynamic Data Connections"
   ]
  },
  {
   "cell_type": "markdown",
   "id": "assumed-demand",
   "metadata": {},
   "source": [
    "### Static Data Connections"
   ]
  },
  {
   "cell_type": "markdown",
   "id": "under-deployment",
   "metadata": {},
   "source": [
    "#### Stock Ticker Lists"
   ]
  },
  {
   "cell_type": "code",
   "execution_count": 98,
   "id": "modern-visiting",
   "metadata": {},
   "outputs": [],
   "source": [
    "# Get tickers within S&P500 index - test dataset\n",
    "sp500_tickers_path = Path('resources/sp500_tickers.csv')\n",
    "sp500_tickers = pd.read_csv(sp500_tickers_path)\n",
    "\n",
    "sp500_tickers_test_path = Path('resources/sp500_tickers_test.csv')\n",
    "sp500_tickers_test = pd.read_csv(sp500_tickers_test_path)"
   ]
  },
  {
   "cell_type": "markdown",
   "id": "endangered-difficulty",
   "metadata": {},
   "source": [
    "### Dynamic Data Connections"
   ]
  },
  {
   "cell_type": "markdown",
   "id": "needed-cause",
   "metadata": {},
   "source": [
    "#### Stock Price Data"
   ]
  },
  {
   "cell_type": "code",
   "execution_count": 60,
   "id": "adverse-priest",
   "metadata": {},
   "outputs": [],
   "source": [
    "# Alpaca API connector\n",
    "load_dotenv(\"../resources/api_keys.env\")\n",
    "\n",
    "# Set Alpaca API key and secret\n",
    "alpaca_api_key = os.getenv(\"ALPACA_API_KEY\")\n",
    "alpaca_secret_key = os.getenv(\"ALPACA_SECRET_KEY\")\n",
    "\n",
    "# Create the Alpaca API object\n",
    "api = tradeapi.REST(\n",
    "alpaca_api_key,\n",
    "alpaca_secret_key,\n",
    "api_version = \"v2\"\n",
    ")"
   ]
  },
  {
   "cell_type": "markdown",
   "id": "pacific-opportunity",
   "metadata": {},
   "source": [
    "#### Fundamental Stock Data"
   ]
  },
  {
   "cell_type": "code",
   "execution_count": 66,
   "id": "ecological-cemetery",
   "metadata": {},
   "outputs": [],
   "source": [
    "# FinnHub API connector\n",
    "load_dotenv(\"../resources/api_keys.env\")\n",
    "\n",
    "# Set FinnBug API key\n",
    "finnhub_api_key = os.getenv(\"FINNHUB_API_KEY\")\n",
    "\n",
    "# Create FinnHub API object\n",
    "finnhub_client = finnhub.Client(api_key=finnhub_api_key)\n",
    "\n",
    "# Method to obtain json data from Polygon API\n",
    "def finnhub_data(ticker):\n",
    "    \n",
    "    data = finnhub_client.company_basic_financials(ticker, \"\")\n",
    "    data_df = pd.DataFrame(data)\n",
    "    time.sleep(1)\n",
    "    \n",
    "    return data_df"
   ]
  },
  {
   "cell_type": "markdown",
   "id": "tamil-japan",
   "metadata": {},
   "source": [
    "#### Bond Data"
   ]
  },
  {
   "cell_type": "code",
   "execution_count": 43,
   "id": "typical-intensity",
   "metadata": {},
   "outputs": [],
   "source": [
    "# Treasury bonds\n",
    "def treasury_data():\n",
    "    return ql.get(\"USTREASURY/YIELD\")"
   ]
  },
  {
   "cell_type": "markdown",
   "id": "aboriginal-wells",
   "metadata": {},
   "source": [
    "#### Crypto Data"
   ]
  },
  {
   "cell_type": "code",
   "execution_count": 4,
   "id": "legislative-stereo",
   "metadata": {},
   "outputs": [],
   "source": [
    "# Crypto connector URLs\n",
    "btc_url = \"https://api.alternative.me/v2/ticker/Bitcoin/?convert=USD\"\n",
    "eth_url = \"https://api.alternative.me/v2/ticker/Ethereum/?convert=USD\"\n",
    "\n",
    "# Build out the crypto connector here"
   ]
  },
  {
   "cell_type": "markdown",
   "id": "equipped-sentence",
   "metadata": {},
   "source": [
    "## Data Parsing"
   ]
  },
  {
   "cell_type": "markdown",
   "id": "russian-perception",
   "metadata": {},
   "source": [
    "### Stock Data"
   ]
  },
  {
   "cell_type": "code",
   "execution_count": 121,
   "id": "veterinary-baptist",
   "metadata": {},
   "outputs": [
    {
     "data": {
      "text/html": [
       "<div>\n",
       "<style scoped>\n",
       "    .dataframe tbody tr th:only-of-type {\n",
       "        vertical-align: middle;\n",
       "    }\n",
       "\n",
       "    .dataframe tbody tr th {\n",
       "        vertical-align: top;\n",
       "    }\n",
       "\n",
       "    .dataframe thead th {\n",
       "        text-align: right;\n",
       "    }\n",
       "</style>\n",
       "<table border=\"1\" class=\"dataframe\">\n",
       "  <thead>\n",
       "    <tr style=\"text-align: right;\">\n",
       "      <th></th>\n",
       "      <th>metric_type</th>\n",
       "      <th>metric</th>\n",
       "      <th>series</th>\n",
       "    </tr>\n",
       "    <tr>\n",
       "      <th>symbol</th>\n",
       "      <th></th>\n",
       "      <th></th>\n",
       "      <th></th>\n",
       "    </tr>\n",
       "  </thead>\n",
       "  <tbody>\n",
       "    <tr>\n",
       "      <th>MMM</th>\n",
       "      <td>10DayAverageTradingVolume</td>\n",
       "      <td>2.52982</td>\n",
       "      <td>NaN</td>\n",
       "    </tr>\n",
       "    <tr>\n",
       "      <th>MMM</th>\n",
       "      <td>13WeekPriceReturnDaily</td>\n",
       "      <td>12.22817</td>\n",
       "      <td>NaN</td>\n",
       "    </tr>\n",
       "    <tr>\n",
       "      <th>MMM</th>\n",
       "      <td>26WeekPriceReturnDaily</td>\n",
       "      <td>23.24331</td>\n",
       "      <td>NaN</td>\n",
       "    </tr>\n",
       "    <tr>\n",
       "      <th>MMM</th>\n",
       "      <td>3MonthAverageTradingVolume</td>\n",
       "      <td>50.88457</td>\n",
       "      <td>NaN</td>\n",
       "    </tr>\n",
       "    <tr>\n",
       "      <th>MMM</th>\n",
       "      <td>52WeekHigh</td>\n",
       "      <td>203.155</td>\n",
       "      <td>NaN</td>\n",
       "    </tr>\n",
       "  </tbody>\n",
       "</table>\n",
       "</div>"
      ],
      "text/plain": [
       "                       metric_type    metric series\n",
       "symbol                                             \n",
       "MMM      10DayAverageTradingVolume   2.52982    NaN\n",
       "MMM         13WeekPriceReturnDaily  12.22817    NaN\n",
       "MMM         26WeekPriceReturnDaily  23.24331    NaN\n",
       "MMM     3MonthAverageTradingVolume  50.88457    NaN\n",
       "MMM                     52WeekHigh   203.155    NaN"
      ]
     },
     "execution_count": 121,
     "metadata": {},
     "output_type": "execute_result"
    }
   ],
   "source": [
    "# Get prices for tickers withing a given index or sector\n",
    "def stock_prices(tickers_df, start_date, end_date):\n",
    "    '''Returns pd.DataFrame with prices for the given tickers\n",
    "    \n",
    "    ...\n",
    "    \n",
    "    Parameters\n",
    "    ----------\n",
    "    tickers_df : pd.DataFrame - contains tickers for given index or sector under \n",
    "        the \"Symbol\" column which is the DataFrame key\n",
    "    start_date : str() - string with date in following format YYYY-MM-DD\n",
    "    end_date: str() - string with date in following format YYYY-MM-DD \n",
    "    \n",
    "    \n",
    "    Returns\n",
    "    -------\n",
    "    result_df : pd.DataFrame with securities price data\n",
    "    '''\n",
    "    \n",
    "    # Get list of tickers from the tickers_df DataFrame\n",
    "    tickers = list(tickers_df[\"Symbol\"])\n",
    "    \n",
    "    # Parse start and end dates\n",
    "    start_date = pd.Timestamp(start_date, tz=\"America/New_York\").isoformat()\n",
    "    end_date = pd.Timestamp(end_date, tz=\"America/New_York\").isoformat()\n",
    "    \n",
    "    # Connect to Alpaca API and get data\n",
    "    \"\"\"Condition handling: \n",
    "        a. Alpaca API 422 Client Error if more than 100 tickers are passed - COMPLETE\n",
    "        b. Alpaca API data max row limit of 1000 - PENDING\"\"\"\n",
    "    \n",
    "    \n",
    "    # a. Alpaca API condition handling, sending 100 tickers at a time\n",
    "    # Declate a pd.DataFrame\n",
    "    result_df = pd.DataFrame()\n",
    "    tickers_n = 50\n",
    "    \n",
    "    for i in range(0, len(tickers), tickers_n):\n",
    "        # Slice the ticker list into lists of 50 tickers\n",
    "        sliced_tickers = tickers[i:i + tickers_n] \n",
    "        \n",
    "        temp_df = api.get_barset(\n",
    "        sliced_tickers,\n",
    "        timeframe = \"1D\",\n",
    "        start = start_date,\n",
    "        end = end_date,\n",
    "        limit = 1000).df\n",
    "\n",
    "        # Append temporary dataframe to result_df\n",
    "        result_df = pd.concat([result_df, temp_df], axis = \"columns\", join = \"outer\")\n",
    "        time.sleep(0.1)\n",
    "        \n",
    "    return result_df\n",
    "    \n",
    "    \n",
    "# Method test\n",
    "# start_date = '2020-01-01'\n",
    "# end_date = '2020-02-28'\n",
    "# tickers_df = sp500_tickers\n",
    "# stocks = stock_prices(tickers_df, start_date, end_date)\n",
    "# stocks.to_csv(\"resources/price_data.csv\")\n",
    "# stocks.head()\n",
    "\n",
    "\n",
    "def stock_fundamentals(tickers_df, csv_path):\n",
    "    '''Returns pd.DataFrame with fundamentals of tickers within tickers_df\n",
    "    \n",
    "    ...\n",
    "    Parameters\n",
    "    ----------\n",
    "    tickers_df : pd.DataFrame - contains tickers for given index or sector under \n",
    "        the \"Symbol\" column which is the DataFrame key\n",
    "        \n",
    "    Returns\n",
    "    -------\n",
    "    result_df : pd.DataFrame with securities fundamental data\n",
    "    '''\n",
    "    \n",
    "    result_df = pd.DataFrame()\n",
    "    \n",
    "    for ticker in tickers_df['Symbol']:\n",
    "        fundamental_data = finnhub_data(ticker)\n",
    "        result_df = pd.concat([result_df, fundamental_data], axis='rows', join=\"outer\")\n",
    "        \n",
    "    \n",
    "    result_df = result_df.reset_index().set_index('symbol')\n",
    "    result_df = result_df.drop('metricType', 1)\n",
    "    result_df.columns = ['metric_type', 'metric', 'series']\n",
    "#     fundamental_data.to_csv(\"resources/fundamental_data.csv\")\n",
    "    \n",
    "    return result_df\n",
    "\n",
    "# Method test\n",
    "fundamental_data = stock_fundamentals(sp500_tickers_test)\n",
    "fundamental_data.head()\n",
    "        "
   ]
  },
  {
   "cell_type": "code",
   "execution_count": 120,
   "id": "meaning-catholic",
   "metadata": {},
   "outputs": [],
   "source": [
    "# fundamental_data = fundamental_data.reset_index().set_index('symbol')\n",
    "# fundamental_data = fundamental_data.drop('metricType', 1)\n",
    "fundamental_data.columns = ['metric_type', 'metric', 'series']\n",
    "fundamental_data.to_csv(\"resources/fundamental_data.csv\")"
   ]
  },
  {
   "cell_type": "markdown",
   "id": "average-pledge",
   "metadata": {},
   "source": []
  },
  {
   "cell_type": "markdown",
   "id": "democratic-majority",
   "metadata": {},
   "source": [
    "## Computational Methods"
   ]
  },
  {
   "cell_type": "markdown",
   "id": "acting-today",
   "metadata": {},
   "source": [
    "### Technical"
   ]
  },
  {
   "cell_type": "code",
   "execution_count": null,
   "id": "acknowledged-hardwood",
   "metadata": {},
   "outputs": [],
   "source": [
    "# please start with RSI and MACD\n",
    "# your method must take entire dataframe and add a RSI or MACD column to it\n",
    "# please keep in mind that the dataframe will contain multiple tickers\n",
    "# follow specs for method writing outlined below, feel free to expand and improve\n",
    "# document your method with docstring\n",
    "# document theory for your method in readme (see the README.md for example)\n",
    "\n",
    "\n",
    "def rsi(df, days):\n",
    "    '''Returns a pd.DataFrame with RSI column appended\n",
    "    \n",
    "    ...\n",
    "    \n",
    "    Parameters\n",
    "    ----------\n",
    "    df : pd.DataFrame - dataframe to be processed\n",
    "    days : int() - numbers of days for RSI calcualtion\n",
    "    \n",
    "    Returns\n",
    "    -------\n",
    "    result_df : pd.DataFrame - dataframe with RSI column appended, calcualted daily for \n",
    "        timeperiod specified by days\n",
    "    '''\n",
    "    \n",
    "    result_df = pd.DataFrame()\n",
    "    \n",
    "    # Your code\n",
    "    \n",
    "    return result_df\n",
    "\n",
    "def macd(df, short_ema, long_ema):\n",
    "    '''Description...\n",
    "    \n",
    "    ...\n",
    "    \n",
    "    Parameters\n",
    "    ----------\n",
    "    df : pd.DataFrame - dataframe to be processed\n",
    "    short_ema : int() - short-term EMA for MACD calculation\n",
    "    long_ema : int() - long-term EMA for MACD calculation\n",
    "    \n",
    "    Returns\n",
    "    -------\n",
    "    result_df : pd.DataFrame - dataframe with MACD column appended, calcualted daily for \n",
    "        timeperiod specified by days\n",
    "    '''\n",
    "    pass\n",
    "\n",
    "# Method test"
   ]
  },
  {
   "cell_type": "markdown",
   "id": "environmental-sport",
   "metadata": {},
   "source": [
    "### Fundamental"
   ]
  },
  {
   "cell_type": "code",
   "execution_count": null,
   "id": "humanitarian-editing",
   "metadata": {},
   "outputs": [],
   "source": [
    "# Please start with PE, EPS, and Dividned Info.\n",
    "# your method must take entire dataframe and add a PE, EPS, and Dividned Info columns to it\n",
    "# please keep in mind that the dataframe will contain multiple tickers\n",
    "# follow specs for method writing outlined below, feel free to expand and improve\n",
    "# document your method with docstring\n",
    "# document theory for your method in readme (see the README.md for example)\n",
    "\n",
    "def pe_ratio(df)\n",
    "\n",
    "\n",
    "# Method test"
   ]
  },
  {
   "cell_type": "markdown",
   "id": "respective-personal",
   "metadata": {},
   "source": [
    "### Traditional"
   ]
  },
  {
   "cell_type": "code",
   "execution_count": null,
   "id": "lucky-repository",
   "metadata": {},
   "outputs": [],
   "source": [
    "# Please start with calculating the Sharpe Ratio Calculation\n",
    "# your method must take entire dataframe and return a dataframe with ticker and sharpe ratio for the given time\n",
    "# please keep in mind that the dataframe will contain multiple tickers\n",
    "# follow specs for method writing outlined below, feel free to expand and improve\n",
    "# document your method with docstring\n",
    "# document theory for your method in readme (see the README.md for example)\n",
    "\n",
    "# Method test"
   ]
  },
  {
   "cell_type": "markdown",
   "id": "accessory-intensity",
   "metadata": {},
   "source": [
    "## Visualization"
   ]
  },
  {
   "cell_type": "code",
   "execution_count": null,
   "id": "mineral-miller",
   "metadata": {},
   "outputs": [],
   "source": [
    "# your code here"
   ]
  },
  {
   "cell_type": "markdown",
   "id": "fossil-sierra",
   "metadata": {},
   "source": [
    "## Dashboard"
   ]
  },
  {
   "cell_type": "code",
   "execution_count": null,
   "id": "disciplinary-satellite",
   "metadata": {},
   "outputs": [],
   "source": [
    "# your code here"
   ]
  },
  {
   "cell_type": "code",
   "execution_count": null,
   "id": "statistical-environment",
   "metadata": {},
   "outputs": [],
   "source": []
  },
  {
   "cell_type": "code",
   "execution_count": null,
   "id": "threatened-founder",
   "metadata": {},
   "outputs": [],
   "source": []
  },
  {
   "cell_type": "code",
   "execution_count": null,
   "id": "finished-nepal",
   "metadata": {},
   "outputs": [],
   "source": []
  }
 ],
 "metadata": {
  "kernelspec": {
   "display_name": "Python 3",
   "language": "python",
   "name": "python3"
  },
  "language_info": {
   "codemirror_mode": {
    "name": "ipython",
    "version": 3
   },
   "file_extension": ".py",
   "mimetype": "text/x-python",
   "name": "python",
   "nbconvert_exporter": "python",
   "pygments_lexer": "ipython3",
   "version": "3.7.9"
  }
 },
 "nbformat": 4,
 "nbformat_minor": 5
}
