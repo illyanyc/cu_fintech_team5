{
 "cells": [
  {
   "cell_type": "markdown",
   "id": "f2d0d271",
   "metadata": {},
   "source": [
    "# Technical Portfolio Analyzer"
   ]
  },
  {
   "cell_type": "markdown",
   "id": "bfce0cca",
   "metadata": {},
   "source": [
    "This Jupyter Notebook will outline the exploration, developement and clean-up of the appliation code\n",
    "\n",
    "### Table of Contents\n",
    "- Data connectors\n",
    "- Data query and clean-up\n",
    "- Analytical methods\n",
    "    - Technical\n",
    "    - Fundamental\n",
    "    - Traditional\n",
    "    \n",
    "---\n",
    "\n",
    "- Visualization\n",
    "- Dashboard (GUI)\n",
    "    - GUI\n",
    "    - Data filtration methods"
   ]
  },
  {
   "cell_type": "markdown",
   "id": "77421891",
   "metadata": {},
   "source": [
    "### Dependencies"
   ]
  },
  {
   "cell_type": "code",
   "execution_count": 1,
   "id": "75ca7721",
   "metadata": {},
   "outputs": [],
   "source": [
    "# Data analytics\n",
    "import pandas as pd\n",
    "import numpy as np\n",
    "import panel as pn\n",
    "\n",
    "# Database tools\n",
    "import sqlite3\n",
    "from sqlalchemy import create_engine\n",
    "\n",
    "# Visualization\n",
    "# pn.extension('plotly')\n",
    "# import plotly.express as px\n",
    "# import hvplot.pandas\n",
    "import matplotlib.pyplot as plt\n",
    "\n",
    "# System\n",
    "import os\n",
    "import time, sys\n",
    "from pathlib import Path\n",
    "from dotenv import load_dotenv\n",
    "import requests\n",
    "from datetime import date, datetime, timedelta\n",
    "from IPython.display import clear_output\n",
    "\n",
    "# Finance\n",
    "import alpaca_trade_api as tradeapi\n",
    "import quandl as ql\n",
    "import finnhub\n",
    "\n",
    "import warnings\n",
    "warnings.filterwarnings('ignore')"
   ]
  },
  {
   "cell_type": "markdown",
   "id": "64e7e4e0",
   "metadata": {},
   "source": [
    "## Data Connections\n",
    "- Static Data Connections\n",
    "- Dynamic Data Connections"
   ]
  },
  {
   "cell_type": "markdown",
   "id": "34621895",
   "metadata": {},
   "source": [
    "### Static Data Connections"
   ]
  },
  {
   "cell_type": "markdown",
   "id": "82aa08e6",
   "metadata": {},
   "source": [
    "#### Stock Ticker Lists"
   ]
  },
  {
   "cell_type": "code",
   "execution_count": 2,
   "id": "84058112",
   "metadata": {},
   "outputs": [],
   "source": [
    "# Get tickers within S&P500 index\n",
    "sp500_tickers_path = Path('resources/sp500_tickers.csv')\n",
    "sp500_tickers = pd.read_csv(sp500_tickers_path).sort_values(by=\"Symbol\")\n",
    "\n",
    "# Get test tickers within S&P500 index\n",
    "sp500_tickers_test_path = Path('resources/sp500_tickers_test.csv')\n",
    "sp500_tickers_test = pd.read_csv(sp500_tickers_test_path)"
   ]
  },
  {
   "cell_type": "code",
   "execution_count": 3,
   "id": "16822663",
   "metadata": {},
   "outputs": [],
   "source": [
    "# Get fundamental data from csv\n",
    "stock_fundamentals_data_path = Path(\"resources/fundamental_data.csv\")\n",
    "stock_fundamentals_df = pd.read_csv(stock_fundamentals_data_path)"
   ]
  },
  {
   "cell_type": "markdown",
   "id": "27dba196",
   "metadata": {},
   "source": [
    "#### Database Builder"
   ]
  },
  {
   "cell_type": "code",
   "execution_count": 4,
   "id": "f257a18a",
   "metadata": {},
   "outputs": [
    {
     "name": "stdout",
     "output_type": "stream",
     "text": [
      "This will restore the 'stock_prices' database and delete all of stored values, are you sure? y/[n]\n"
     ]
    },
    {
     "name": "stdin",
     "output_type": "stream",
     "text": [
      " y\n"
     ]
    }
   ],
   "source": [
    "def create_db():\n",
    "    '''This method creates a SQLite database that will store all of ticker daily prices;\n",
    "    This method is created to resolve the Alpaca API request limits that can greatly slow down large data requests\n",
    "    '''\n",
    "    \n",
    "    print(\"This will restore the 'stock_prices' database and delete all of stored values, are you sure? y/[n]\")\n",
    "    confirm = input()\n",
    "    \n",
    "    if confirm == 'y':\n",
    "        conn = sqlite3.connect('resources/stock_prices.db')\n",
    "        \n",
    "    else:\n",
    "        print(\"Databse creation aborted\")\n",
    "\n",
    "create_db()"
   ]
  },
  {
   "cell_type": "markdown",
   "id": "a8422674",
   "metadata": {},
   "source": [
    "### Dynamic Data Connections"
   ]
  },
  {
   "cell_type": "markdown",
   "id": "115999f6",
   "metadata": {},
   "source": [
    "#### Stock Price Data"
   ]
  },
  {
   "cell_type": "code",
   "execution_count": 5,
   "id": "f6f6953c",
   "metadata": {},
   "outputs": [],
   "source": [
    "# Alpaca API connector\n",
    "load_dotenv(\"../resources/api_keys.env\")\n",
    "\n",
    "# Set Alpaca API key and secret\n",
    "alpaca_api_key = os.getenv(\"ALPACA_API_KEY\")\n",
    "alpaca_secret_key = os.getenv(\"ALPACA_SECRET_KEY\")\n",
    "\n",
    "# Create the Alpaca API object\n",
    "api = tradeapi.REST(\n",
    "alpaca_api_key,\n",
    "alpaca_secret_key,\n",
    "api_version = \"v2\"\n",
    ")"
   ]
  },
  {
   "cell_type": "markdown",
   "id": "989020e6",
   "metadata": {},
   "source": [
    "#### Fundamental Stock Data"
   ]
  },
  {
   "cell_type": "code",
   "execution_count": 6,
   "id": "88236f04",
   "metadata": {},
   "outputs": [],
   "source": [
    "# FinnHub API connector\n",
    "load_dotenv(\"../resources/api_keys.env\")\n",
    "\n",
    "# Set FinnBug API key\n",
    "finnhub_api_key = os.getenv(\"FINNHUB_API_KEY\")\n",
    "\n",
    "# Create FinnHub API object\n",
    "finnhub_client = finnhub.Client(api_key=finnhub_api_key)\n",
    "\n",
    "# Method to obtain json data from Polygon API\n",
    "def finnhub_data(ticker):\n",
    "    \n",
    "    data = finnhub_client.company_basic_financials(ticker, \"\")\n",
    "    data_df = pd.DataFrame(data)\n",
    "    time.sleep(1)\n",
    "    \n",
    "    return data_df"
   ]
  },
  {
   "cell_type": "markdown",
   "id": "d846ebd2",
   "metadata": {},
   "source": [
    "#### Bond Data"
   ]
  },
  {
   "cell_type": "code",
   "execution_count": 7,
   "id": "f0a4fb04",
   "metadata": {},
   "outputs": [],
   "source": [
    "# Treasury bonds\n",
    "def treasury_data():\n",
    "    return ql.get(\"USTREASURY/YIELD\")"
   ]
  },
  {
   "cell_type": "markdown",
   "id": "191ae235",
   "metadata": {},
   "source": [
    "#### Crypto Data"
   ]
  },
  {
   "cell_type": "code",
   "execution_count": 8,
   "id": "b206ec94",
   "metadata": {},
   "outputs": [],
   "source": [
    "# Crypto connector URLs\n",
    "btc_url = \"https://api.alternative.me/v2/ticker/Bitcoin/?convert=USD\"\n",
    "eth_url = \"https://api.alternative.me/v2/ticker/Ethereum/?convert=USD\"\n",
    "\n",
    "# Build out the crypto connector here"
   ]
  },
  {
   "cell_type": "markdown",
   "id": "080ff815",
   "metadata": {},
   "source": [
    "## Data Parsing"
   ]
  },
  {
   "cell_type": "markdown",
   "id": "ffabb060",
   "metadata": {},
   "source": [
    "### Stock Data"
   ]
  },
  {
   "cell_type": "code",
   "execution_count": 11,
   "id": "098342c8",
   "metadata": {},
   "outputs": [],
   "source": [
    "# Get prices for tickers withing a given index or sector\n",
    "def stock_prices(tickers_df, start_date, end_date):\n",
    "    '''Returns pd.DataFrame with prices for the given tickers\n",
    "    \n",
    "    ...\n",
    "    \n",
    "    Parameters\n",
    "    ----------\n",
    "    tickers_df : pd.DataFrame - contains tickers for given index or sector under \n",
    "        the \"Symbol\" column which is the DataFrame key\n",
    "    start_date : str() - string with date in following format YYYY-MM-DD\n",
    "    end_date: str() - string with date in following format YYYY-MM-DD \n",
    "    \n",
    "    \n",
    "    Returns\n",
    "    -------\n",
    "    result_df : pd.DataFrame with securities price data\n",
    "    '''\n",
    "   \n",
    "    # Get list of tickers from the tickers_df list or tickers_df DataFrame \n",
    "    tickers = tickers_df[\"Symbol\"]\n",
    "    \n",
    "    # Parse start and end dates\n",
    "    start_date = pd.Timestamp(start_date, tz=\"America/New_York\").isoformat()\n",
    "    end_date = pd.Timestamp(end_date, tz=\"America/New_York\").isoformat()\n",
    "    \n",
    "    # Connect to Alpaca API and get data\n",
    "    \"\"\"Condition handling: \n",
    "        a. Alpaca API 422 Client Error if more than 100 tickers are passed - COMPLETE\n",
    "        b. Alpaca API data max row limit of 1000 - PENDING\"\"\"\n",
    "    \n",
    "    \n",
    "    # a. Alpaca API condition handling, sending 100 tickers at a time\n",
    "    # Declate a pd.DataFrame\n",
    "    result_df = pd.DataFrame()\n",
    "    tickers_n = 50\n",
    "    \n",
    "    for i in range(0, len(tickers), tickers_n):\n",
    "        # Slice the ticker list into lists of 50 tickers\n",
    "        sliced_tickers = tickers[i:i + tickers_n] \n",
    "        \n",
    "        temp_df = api.get_barset(\n",
    "        sliced_tickers,\n",
    "        timeframe = \"1D\",\n",
    "        start = start_date,\n",
    "        end = end_date,\n",
    "        limit = 1000).df\n",
    "\n",
    "        # Append temporary dataframe to result_df\n",
    "        result_df = pd.concat([result_df, temp_df], axis = \"columns\", join = \"outer\")\n",
    "        time.sleep(0.1)\n",
    "        \n",
    "    return result_df\n",
    "\n",
    "# Seed stock price database\n",
    "def seed_stock_prices_database():\n",
    "    '''Seeds stock_prices database that houses all prices for tickers within an index or sector'''\n",
    "\n",
    "    # Get data for dates indicated\n",
    "    data = stock_prices(sp500_tickers, \"2016-01-01\", \"2016-01-07\")\n",
    "    \n",
    "    # Transpose dataframe\n",
    "    data = data.transpose()\n",
    "    \n",
    "    # Connect to databse\n",
    "    conn = sqlite3.connect('resources/stock_prices.db') \n",
    "    c = conn.cursor()\n",
    "    \n",
    "    # Iterate over dataframe and populate the database\n",
    "    for ticker, sub_frame in data.groupby(level=0):\n",
    "        list_of_tables = c.execute(f\"SELECT name FROM sqlite_master WHERE type='table' AND name='{ticker}';\").fetchall()\n",
    "        if list_of_tables == []:\n",
    "            sub_frame.transpose().to_sql(ticker, conn, if_exists='append')\n",
    "        else:\n",
    "            sub_frame.transpose().to_sql(ticker, conn, if_exists='append')\n",
    "            \n",
    "            \n",
    "# Update stock price database     \n",
    "def update_stock_prices_database(tickers_df):\n",
    "    '''Updates stock_prices database that houses all prices for tickers within an index or sector'''\n",
    "    \n",
    "    # Get today's date\n",
    "    today_date = date.today().strftime(\"%Y-%m-%d\")\n",
    "    \n",
    "    # Connect to databse\n",
    "    conn = sqlite3.connect('resources/stock_prices.db') \n",
    "    c = conn.cursor()\n",
    "    \n",
    "    # Iterate over dataframe and populate the database\n",
    "    ticker_count = 0\n",
    "    for index, ticker_data in tickers_df.iterrows():\n",
    "        \n",
    "        ticker = \"_\" + ticker_data[\"Symbol\"]\n",
    "        \n",
    "        # Get list of all tables in databse\n",
    "        list_of_tables = c.execute(f\"SELECT name FROM sqlite_master WHERE type='table' AND name='{ticker}';\").fetchall()\n",
    "        \n",
    "        # If table does not exist, create and seed\n",
    "        if list_of_tables == []: # If tables does not exist\n",
    "            # Get data from Alpaca API\n",
    "            data = stock_prices(ticker_data, \"2015-01-01\", \"2018-01-01\")\n",
    "            \n",
    "            # Write stock data to databse\n",
    "            data.to_sql(ticker, conn, if_exists='append')\n",
    "            \n",
    "        else: # If table does exist\n",
    "            try:\n",
    "                # Get last date from the table\n",
    "                last_date = c.execute(f\"SELECT time FROM {ticker} ORDER BY time DESC LIMIT 1\").fetchall()\n",
    "                last_date = ''.join(last_date[0]).split(\" \")[0]\n",
    "\n",
    "                # Get next date\n",
    "                next_date = datetime.strptime(last_date, '%Y-%m-%d') + timedelta(days=1)\n",
    "\n",
    "                # Change date format for Alpaca\n",
    "                next_date = next_date.strftime(\"%Y-%m-%d\")\n",
    "                \n",
    "                # Get today's date\n",
    "                today_date = datetime.today().strftime(\"%Y-%m-%d\")\n",
    "\n",
    "                # Get data from Alpaca API\n",
    "                data = stock_prices(ticker_data, last_date, today_date)\n",
    "\n",
    "                # Write data to database\n",
    "                data.to_sql(ticker, conn, if_exists='append')\n",
    "            except:\n",
    "                pass\n",
    "            \n",
    "        ticker_count += 1\n",
    "        print(f\"Processing {ticker} | {ticker_count}/{len(tickers_df.index)}\")\n",
    "\n",
    "\n",
    "# Get stock fundamental data from FinnHub\n",
    "def generate_stock_fundamentals(tickers_df):\n",
    "    '''Returns pd.DataFrame with fundamentals of tickers within tickers_df\n",
    "    \n",
    "    ...\n",
    "    Parameters\n",
    "    ----------\n",
    "    tickers_df : pd.DataFrame - contains tickers for given index or sector under \n",
    "        the \"Symbol\" column which is the DataFrame key\n",
    "        \n",
    "    Returns\n",
    "    -------\n",
    "    result_df : pd.DataFrame - securities fundamental data\n",
    "    '''\n",
    "    \n",
    "    result_df = pd.DataFrame()\n",
    "    \n",
    "    for ticker in tickers_df['Symbol']:\n",
    "        fundamental_data = finnhub_data(ticker)\n",
    "        result_df = pd.concat([result_df, fundamental_data], axis='rows', join=\"outer\")\n",
    "        \n",
    "    # Parse the dataframe\n",
    "    result_df = result_df.reset_index().set_index('symbol')\n",
    "    result_df = result_df.drop('metricType', 1)\n",
    "    result_df.columns = ['metric_type', 'metric', 'series']\n",
    "    \n",
    "    return result_df\n",
    "\n",
    "# fundamental_data = stock_fundamentals(sp500_tickers_test)\n",
    "# fundamental_data.head()\n",
    "        \n",
    "\n",
    "    \n",
    "# Refresh stock fundamental data csv\n",
    "def refresh_fundamentals_csv(tickers_df):\n",
    "    '''Returns pd.DataFrame with fundamentals of tickers within tickers_df\n",
    "    and/or calls to generate a refreashed dataset\n",
    "    \n",
    "    ...\n",
    "    Parameters\n",
    "    ----------\n",
    "    tickers_df : pd.DataFrame - contains tickers for given index or sector under \n",
    "        the \"Symbol\" column which is the DataFrame key\n",
    "    '''\n",
    "    \n",
    "    result_df = stock_fundamentals(tickers_df)\n",
    "    result_df.to_csv(\"resources/fundamental_data.csv\")\n",
    "    \n",
    "# refresh_fundamentals_csv(sp500_tickers)"
   ]
  },
  {
   "cell_type": "code",
   "execution_count": 13,
   "id": "5f2d282d",
   "metadata": {},
   "outputs": [],
   "source": [
    "# conn = sqlite3.connect('resources/stock_prices.db') \n",
    "# c = conn.cursor()\n",
    "# data = c.execute(\"SELECT * FROM _AAPL\")\n",
    "# for row in data:\n",
    "#     print(row)"
   ]
  },
  {
   "cell_type": "markdown",
   "id": "64875bcf",
   "metadata": {},
   "source": []
  },
  {
   "cell_type": "markdown",
   "id": "86cf357d",
   "metadata": {},
   "source": [
    "## Computational Methods"
   ]
  },
  {
   "cell_type": "markdown",
   "id": "601ddf0c",
   "metadata": {},
   "source": [
    "### Technical"
   ]
  },
  {
   "cell_type": "code",
   "execution_count": null,
   "id": "32e3184e",
   "metadata": {},
   "outputs": [],
   "source": [
    "# please start with RSI and MACD\n",
    "# your method must take entire dataframe and add a RSI or MACD column to it\n",
    "# please keep in mind that the dataframe will contain multiple tickers\n",
    "# follow specs for method writing outlined below, feel free to expand and improve\n",
    "# document your method with docstring\n",
    "# document theory for your method in readme (see the README.md for example)\n",
    "\n",
    "\n",
    "def rsi(df, days):\n",
    "    '''Returns a pd.DataFrame with RSI column appended\n",
    "    \n",
    "    ...\n",
    "    \n",
    "    Parameters\n",
    "    ----------\n",
    "    df : pd.DataFrame - dataframe to be processed\n",
    "    days : int() - numbers of days for RSI calcualtion\n",
    "    \n",
    "    Returns\n",
    "    -------\n",
    "    result_df : pd.DataFrame - dataframe with RSI column appended, calcualted daily for \n",
    "        timeperiod specified by days\n",
    "    '''\n",
    "    \n",
    "    result_df = pd.DataFrame()\n",
    "    \n",
    "    # Your code\n",
    "    \n",
    "    return result_df\n",
    "\n",
    "def macd(df, short_ema, long_ema):\n",
    "    '''Description...\n",
    "    \n",
    "    ...\n",
    "    \n",
    "    Parameters\n",
    "    ----------\n",
    "    df : pd.DataFrame - dataframe to be processed\n",
    "    short_ema : int() - short-term EMA for MACD calculation\n",
    "    long_ema : int() - long-term EMA for MACD calculation\n",
    "    \n",
    "    Returns\n",
    "    -------\n",
    "    result_df : pd.DataFrame - dataframe with MACD column appended, calcualted daily for \n",
    "        timeperiod specified by days\n",
    "    '''\n",
    "    pass\n",
    "\n",
    "# Method test"
   ]
  },
  {
   "cell_type": "markdown",
   "id": "93cb6409",
   "metadata": {},
   "source": [
    "### Fundamental"
   ]
  },
  {
   "cell_type": "code",
   "execution_count": null,
   "id": "3a498bc9",
   "metadata": {},
   "outputs": [],
   "source": [
    "# Fundamental data filter\n",
    "def fundamental_data_query(tickers_df, fundamental_indicator_key, lower_bound = -1000000, upper_bound = 1000000):\n",
    "    '''Returns a pd.DataFrame of fundamental data filtered by user input range\n",
    "    \n",
    "    ...\n",
    "    \n",
    "    Parameters\n",
    "    ----------\n",
    "    tickers_df : pd.DataFrame - dataframe to be processed, contains tickers\n",
    "    fundamental_indicator_key : str() - keyword for fundamental indicator requested\n",
    "    \n",
    "        Fundamental indicator keys ->\n",
    "        \n",
    "        P/E Ratio : [pe_ratio]\n",
    "        EPS (Earnings per Share) : [eps]\n",
    "        Annual Dividend : [dividend]\n",
    "        Beta (vs. S&P 500) : [beta]\n",
    "        EBIDT : [ebidt]\n",
    "        Quick Ratio : [quick_ratio]\n",
    "        3 Year Revenue Growth : [rev_growth]\n",
    "        Free Cash Flow : [cash_flow]\n",
    "    \n",
    "    lower_bound : int() or float() - lower bound for fundamental value filter, default = -1000000\n",
    "    upper_bound : int() or float() - upper bound for fundamental value filter, default = 1000000\n",
    "     \n",
    "     \n",
    "     \n",
    "    Returns\n",
    "    -------\n",
    "    result_df : pd.DataFrame - dataframe with ticker and filtered fundamental data\n",
    "    '''\n",
    "\n",
    "    fund_indicators_dict = {\n",
    "        'pe_ratio' : 'peNormalizedAnnual',\n",
    "        'eps' : 'epsNormalizedAnnual',\n",
    "        'dividend' : 'dividendsPerShareTTM',\n",
    "        'beta' : 'beta',\n",
    "        'ebidt' : 'ebitdPerShareTTM',\n",
    "        'quick_ratio' : 'quickRatioAnnual',\n",
    "        'rev_growth' : 'revenueGrowth3Y',\n",
    "        'free_cash_flow' : 'freeCashFlowAnnual'   \n",
    "    }\n",
    "    \n",
    "    # Declate tickers list\n",
    "    tickers_list = tickers_df['Symbol']\n",
    "    \n",
    "    # Declare fundamental data df and filter by ticker df\n",
    "    data_df = stock_fundamentals_df[stock_fundamentals_df.symbol.isin(tickers_list)]\n",
    "    data_df = data_df.set_index(['symbol'])\n",
    "    \n",
    "    # Extract requested fundamental data\n",
    "    result_df = data_df[data_df['metric_type'] == fund_indicators_dict[fundamental_indicator_key]]\n",
    "    \n",
    "    # Convert all df values to numeric\n",
    "    result_df['metric'] = result_df['metric'].apply(pd.to_numeric)\n",
    "    \n",
    "    # Filter fundamental data by user input range (lower_bound and upper_bound)\n",
    "    result_df = result_df[(result_df['metric'] > lower_bound) & (result_df['metric'] < upper_bound)]\n",
    "    \n",
    "    # Clean up result_df\n",
    "    result_df = result_df.drop(columns = ['metric_type', 'series'])\n",
    "    result_df = result_df.rename(columns = {'symbol' : 'ticker', \n",
    "                                'metric' : fundamental_indicator_key})\n",
    "    \n",
    "    \n",
    "    return result_df\n",
    "\n",
    "\n",
    "# Method test\n",
    "# print(fundamental_data_query(sp500_tickers, 'pe_ratio', 10, 11))\n",
    "# help(fundamental_data_query)"
   ]
  },
  {
   "cell_type": "markdown",
   "id": "9b92b951",
   "metadata": {},
   "source": [
    "### Traditional"
   ]
  },
  {
   "cell_type": "code",
   "execution_count": null,
   "id": "22b02979",
   "metadata": {},
   "outputs": [],
   "source": [
    "# Please start with calculating the Sharpe Ratio Calculation\n",
    "# your method must take entire dataframe and return a dataframe with ticker and sharpe ratio for the given time\n",
    "# please keep in mind that the dataframe will contain multiple tickers\n",
    "# follow specs for method writing outlined below, feel free to expand and improve\n",
    "# document your method with docstring\n",
    "# document theory for your method in readme (see the README.md for example)\n",
    "\n",
    "# Method test"
   ]
  },
  {
   "cell_type": "markdown",
   "id": "78143e95",
   "metadata": {},
   "source": [
    "### Portfolio Methods"
   ]
  },
  {
   "cell_type": "code",
   "execution_count": null,
   "id": "70f9aaa8",
   "metadata": {},
   "outputs": [],
   "source": [
    "# Portfolio weighing\n",
    "def fundamental_portfolio_builder(tickers_df, start_date, end_date):\n",
    "     '''Returns a pd.DataFrame time series price data of the equal weight portfolio\n",
    "    \n",
    "    ...\n",
    "    \n",
    "    Parameters\n",
    "    ----------\n",
    "    tickers_df : pd.DataFrame - dataframe to be processed\n",
    "    start_date : str() - string with date in following format YYYY-MM-DD\n",
    "    end_date: str() - string with date in following format YYYY-MM-DD \n",
    "     \n",
    "     \n",
    "     \n",
    "    Returns\n",
    "    -------\n",
    "    result_df : pd.DataFrame - dataframe with ticker and filtered fundamental data\n",
    "    '''\n",
    "    "
   ]
  },
  {
   "cell_type": "markdown",
   "id": "3d08ce15",
   "metadata": {},
   "source": [
    "## Visualization"
   ]
  },
  {
   "cell_type": "code",
   "execution_count": null,
   "id": "c618d067",
   "metadata": {},
   "outputs": [],
   "source": [
    "# your code here"
   ]
  },
  {
   "cell_type": "markdown",
   "id": "2172e2b4",
   "metadata": {},
   "source": [
    "## Dashboard"
   ]
  },
  {
   "cell_type": "code",
   "execution_count": null,
   "id": "b9d8f064",
   "metadata": {},
   "outputs": [],
   "source": [
    "# your code here"
   ]
  },
  {
   "cell_type": "code",
   "execution_count": null,
   "id": "9405bca3",
   "metadata": {},
   "outputs": [],
   "source": []
  },
  {
   "cell_type": "code",
   "execution_count": null,
   "id": "40f49066",
   "metadata": {},
   "outputs": [],
   "source": []
  },
  {
   "cell_type": "code",
   "execution_count": null,
   "id": "2e448f4b",
   "metadata": {},
   "outputs": [],
   "source": []
  }
 ],
 "metadata": {
  "kernelspec": {
   "display_name": "Python 3",
   "language": "python",
   "name": "python3"
  },
  "language_info": {
   "codemirror_mode": {
    "name": "ipython",
    "version": 3
   },
   "file_extension": ".py",
   "mimetype": "text/x-python",
   "name": "python",
   "nbconvert_exporter": "python",
   "pygments_lexer": "ipython3",
   "version": "3.7.10"
  }
 },
 "nbformat": 4,
 "nbformat_minor": 5
}
